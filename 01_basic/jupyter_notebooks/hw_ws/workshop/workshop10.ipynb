{
 "cells": [
  {
   "cell_type": "markdown",
   "metadata": {},
   "source": [
    "### 코드\n",
    "\n",
    "        <div id=\"ssafy\">\n",
    "            <h2>어떤게 선택될까?</h2>\n",
    "                <p>첫번째 단락</p>\n",
    "                <p>두번째 단락</p>\n",
    "                <p>세번째 단락</p>\n",
    "                <p>네번째 단락</p>\n",
    "\n",
    "        </div>\n",
    "        \n",
    "        \n",
    "        \n",
    "        #ssafy > p:nth-of-type(2) {\n",
    "    color:red;\n",
    "}\n",
    "\n",
    "\n",
    "### 자식 코드를 어떻게 활용하는지 이해했습니다."
   ]
  }
 ],
 "metadata": {
  "kernelspec": {
   "display_name": "Python 3",
   "language": "python",
   "name": "python3"
  },
  "language_info": {
   "codemirror_mode": {
    "name": "ipython",
    "version": 3
   },
   "file_extension": ".py",
   "mimetype": "text/x-python",
   "name": "python",
   "nbconvert_exporter": "python",
   "pygments_lexer": "ipython3",
   "version": "3.6.7"
  }
 },
 "nbformat": 4,
 "nbformat_minor": 2
}
