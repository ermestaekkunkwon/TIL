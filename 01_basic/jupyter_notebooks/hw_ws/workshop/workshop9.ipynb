{
 "cells": [
  {
   "cell_type": "markdown",
   "metadata": {},
   "source": [
    "from flask import Flask\n",
    "\n",
    "app = Flask(__name__)\n",
    "\n",
    "@app.route('/dictionary/<string:word>')\n",
    "def dictionary(word):\n",
    "    a = {\n",
    "        'apple' : '사과',\n",
    "        'banana' : '바나나',\n",
    "        'melone' : '멜론'\n",
    "    }\n",
    "    if word in a:\n",
    "        return(f' {word}은(는) {a[word]}!')\n",
    "    else:\n",
    "        return(f' {word}은(는) 나만의 단어장에 없는 단어입니다!')\n",
    "\n",
    "print(dictionary('apple'))\n",
    "\n",
    "\n",
    "if __name__ == '__main__':\n",
    "    app.run(debug=True, host='0.0.0.0', port=3000)"
   ]
  }
 ],
 "metadata": {
  "kernelspec": {
   "display_name": "Python 3",
   "language": "python",
   "name": "python3"
  },
  "language_info": {
   "codemirror_mode": {
    "name": "ipython",
    "version": 3
   },
   "file_extension": ".py",
   "mimetype": "text/x-python",
   "name": "python",
   "nbconvert_exporter": "python",
   "pygments_lexer": "ipython3",
   "version": "3.6.7"
  }
 },
 "nbformat": 4,
 "nbformat_minor": 2
}
