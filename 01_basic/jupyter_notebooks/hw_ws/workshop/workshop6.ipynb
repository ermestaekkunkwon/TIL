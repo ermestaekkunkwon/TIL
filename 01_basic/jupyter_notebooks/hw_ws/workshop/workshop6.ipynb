{
 "cells": [
  {
   "cell_type": "markdown",
   "metadata": {},
   "source": [
    "### sqrt"
   ]
  },
  {
   "cell_type": "code",
   "execution_count": null,
   "metadata": {},
   "outputs": [],
   "source": [
    "n = 2\n",
    "min_n = 1\n",
    "max_n = 2\n",
    "\n",
    "min_n ** 2 < n < max_n ** 2\n",
    "1 < n < 2\n",
    "\n",
    "guess = (min_n + max_n) / 2\n",
    "2 > guess ** 2\n",
    "\n",
    "2 < guess ** 2\n",
    "\n",
    "max_n = guess\n",
    "\n",
    "min_n ** 2 < n < max_n ** 2\n",
    "1 < n < 2.25\n",
    "\n",
    "guess = 2.25 + 1 / 2\n",
    "\n",
    "n > guess ** 2\n",
    "n < guess ** 2\n",
    "\n",
    "min_n = guess\n",
    "\n",
    "...\n",
    "\n",
    "round(min_n, 4) == round(max_n, 4)"
   ]
  },
  {
   "cell_type": "code",
   "execution_count": null,
   "metadata": {},
   "outputs": [],
   "source": [
    "def bisection():\n",
    "    n = 3\n",
    "    min_n = (n - 1)  # n = 2\n",
    "    max_n = n\n",
    "\n",
    "    while (min_n ** 2) <= n <= (max_n ** 2):\n",
    "        guess = (min_n + max_n) / 2   # 1.5\n",
    "        if n >= (guess ** 2):\n",
    "            min_n = guess      # -> 1 < n < 1.5      guess = 1.25  -> 1.25 < n < 1.5 -> n = 1. 375 -> 1.375 < n < 1.5\n",
    "        elif n <= (guess ** 2):\n",
    "            max_n = guess\n",
    "        elif round(min_n, 4) == round (max_n, 4):\n",
    "            return guess\n",
    "\n",
    "bisection()\n",
    "            "
   ]
  },
  {
   "cell_type": "code",
   "execution_count": null,
   "metadata": {},
   "outputs": [],
   "source": [
    "def bisection():\n",
    "    n = 3\n",
    "    min_n = (n - 1)  # n = 2\n",
    "    max_n = n\n",
    "\n",
    "    while (min_n ** 2) <= n ** 2 <= (max_n ** 2):\n",
    "        guess = (min_n + max_n) / 2   # 1.5\n",
    "        if n ** 2 > (guess ** 2):\n",
    "            min_n = guess      # -> 1 < n < 1.5      guess = 1.25  -> 1.25 < n < 1.5 -> n = 1. 375 -> 1.375 < n < 1.5\n",
    "        elif n ** 2 < (guess ** 2):\n",
    "            max_n = guess\n",
    "        elif round(min_n, 4) == round (max_n, 4):\n",
    "            return guess\n",
    "\n",
    "bisection()\n",
    "            "
   ]
  },
  {
   "cell_type": "code",
   "execution_count": null,
   "metadata": {},
   "outputs": [],
   "source": [
    "def my_sqrt(n):\n",
    "    minimum, maximum = 0, 1\n",
    "    \n",
    "    while 1:\n",
    "        if n == maximum ** 2:\n",
    "            return maximum\n",
    "        elif minimum ** 2 < n < maximum ** 2:\n",
    "            guess = (minimum + maximum) / 2\n",
    "            \n",
    "            if round (minimum, 5) == round (maximum, 5):\n",
    "                return round(guess, 5)\n",
    "            elif guess ** 2 > n:\n",
    "                maximum = guess\n",
    "            else:\n",
    "                minimum = guess\n",
    "        else:\n",
    "            minimum +=1\n",
    "            maximum +=1\n",
    "            \n",
    "    \n",
    "my_sqrt(100)"
   ]
  },
  {
   "cell_type": "code",
   "execution_count": 1,
   "metadata": {},
   "outputs": [
    {
     "data": {
      "text/plain": [
       "3.16228"
      ]
     },
     "execution_count": 1,
     "metadata": {},
     "output_type": "execute_result"
    }
   ],
   "source": [
    "import math\n",
    "\n",
    "def my_sqrt_r(n, minimum = 0, maximum = 1):\n",
    "    if n == maximum ** 2:\n",
    "        return maximum\n",
    "    elif minimum ** 2 < n < maximum ** 2:\n",
    "        guess = (minimum + maximum) / 2\n",
    "        if round(minimum, 5) == round(maximum, 5): # math.isclose(minimum, maximum)\n",
    "            return guess\n",
    "        elif guess ** 2 > n :\n",
    "            return my_sqrt_r(n, minimum, guess)\n",
    "        else:\n",
    "            return my_sqrt_r(n, guess, maximum)\n",
    "    else:\n",
    "        minimum += 1\n",
    "        maximum += 1\n",
    "        return round(my_sqrt_r(n, minimum, maximum), 5)\n",
    "\n",
    "        \n",
    "my_sqrt_r(10)"
   ]
  }
 ],
 "metadata": {
  "kernelspec": {
   "display_name": "Python 3",
   "language": "python",
   "name": "python3"
  },
  "language_info": {
   "codemirror_mode": {
    "name": "ipython",
    "version": 3
   },
   "file_extension": ".py",
   "mimetype": "text/x-python",
   "name": "python",
   "nbconvert_exporter": "python",
   "pygments_lexer": "ipython3",
   "version": "3.6.7"
  }
 },
 "nbformat": 4,
 "nbformat_minor": 2
}
