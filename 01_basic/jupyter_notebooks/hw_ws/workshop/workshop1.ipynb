{
 "cells": [
  {
   "cell_type": "markdown",
   "metadata": {},
   "source": [
    "# Day 1"
   ]
  },
  {
   "cell_type": "markdown",
   "metadata": {},
   "source": [
    "## workshop"
   ]
  },
  {
   "cell_type": "code",
   "execution_count": 40,
   "metadata": {},
   "outputs": [
    {
     "name": "stdout",
     "output_type": "stream",
     "text": [
      "*****\n",
      "*****\n",
      "*****\n",
      "*****\n",
      "*****\n",
      "*****\n",
      "*****\n",
      "*****\n",
      "*****\n",
      "\n"
     ]
    }
   ],
   "source": [
    "# 1번 문제\n",
    "n = 5\n",
    "m = 9\n",
    "\n",
    "\n",
    "line = '*' * n + '\\n'\n",
    "print(line * m)\n",
    "\n",
    "# for i in range(9):            # 5번 반복. 바깥쪽 루프는 세로 방향\n",
    "#     for j in range(5):        # 5번 반복. 안쪽 루프는 가로 방향\n",
    "#         print('*', end='')\n",
    "#     print ()"
   ]
  },
  {
   "cell_type": "code",
   "execution_count": 10,
   "metadata": {},
   "outputs": [
    {
     "name": "stdout",
     "output_type": "stream",
     "text": [
      "87.75\n"
     ]
    }
   ],
   "source": [
    "# 2번 문제\n",
    "student = {'python': 80, 'algorithm': 99, 'django': 89, 'flask': 83}\n",
    "\n",
    "your_average = sum(student.values()) / len(student)\n",
    "print (your_average)"
   ]
  },
  {
   "cell_type": "code",
   "execution_count": 31,
   "metadata": {},
   "outputs": [
    {
     "name": "stdout",
     "output_type": "stream",
     "text": [
      "{'A': 3, 'B': 3, 'O': 3, 'AB': 3}\n"
     ]
    }
   ],
   "source": [
    "# 3번 문제\n",
    "\n",
    "blood_types = ['A', 'B', 'A', 'O', 'AB', 'AB', 'O', 'A', 'B', 'O', 'B', 'AB']\n",
    "\n",
    "w_count = {}\n",
    "for lst in blood_types:\n",
    "    try: w_count[lst] += 1\n",
    "    except: w_count[lst]=1\n",
    "print (w_count)\n",
    "\n",
    "\n",
    "# print (blood_types.count('A'))\n",
    "\n",
    "# 'B'=[]\n",
    "# 'O'=[]\n",
    "# 'AB'=[]\n",
    "\n",
    "# for A in blood_types():\n",
    "#         print(len('A'))\n",
    "#     if 'B' in value\n",
    "#         print(count.append('B'))\n",
    "#     if 'O'in value\n",
    "#         print(count.append('O))\n",
    "#     if 'AB' in value\n",
    "#         print (count.append('AB'))"
   ]
  }
 ],
 "metadata": {
  "kernelspec": {
   "display_name": "Python 3",
   "language": "python",
   "name": "python3"
  },
  "language_info": {
   "codemirror_mode": {
    "name": "ipython",
    "version": 3
   },
   "file_extension": ".py",
   "mimetype": "text/x-python",
   "name": "python",
   "nbconvert_exporter": "python",
   "pygments_lexer": "ipython3",
   "version": "3.6.7"
  }
 },
 "nbformat": 4,
 "nbformat_minor": 2
}
