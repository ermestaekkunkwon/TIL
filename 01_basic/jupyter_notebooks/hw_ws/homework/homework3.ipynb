{
 "cells": [
  {
   "cell_type": "markdown",
   "metadata": {},
   "source": [
    "### 1번\n",
    "\n",
    " 1-1 F\n",
    " 1-2 F\n",
    " 1-3 T\n",
    " 1-4 T"
   ]
  },
  {
   "cell_type": "markdown",
   "metadata": {},
   "source": [
    "### 2번\n",
    "\n",
    " 2-1 ls : 현재 위치 폴더에서 목록들을 보여줍니다. 단, 숨긴 파일은 안알려준다고//\n",
    "\n",
    " 2-2 cd : 특정 폴더에서 특정 폴더로 움직이는 아이콘. 더 세부적으로 들어가는 것이고, '..' 을 누르면 이전 폴더로 이동.\n",
    "\n",
    " 2-3 mkdir : make a directory. 즉 폴더를 생성합니다.\n",
    "\n",
    " 2-4 touch : 파일을 생성합니다."
   ]
  },
  {
   "cell_type": "markdown",
   "metadata": {},
   "source": [
    "### 3번\n",
    "\n",
    "이전에 썼던 혹은 지금 현존하는 파일, repository의 이름을 일일히 다시 칠 필요없이 불러와준다."
   ]
  }
 ],
 "metadata": {
  "kernelspec": {
   "display_name": "Python 3",
   "language": "python",
   "name": "python3"
  },
  "language_info": {
   "codemirror_mode": {
    "name": "ipython",
    "version": 3
   },
   "file_extension": ".py",
   "mimetype": "text/x-python",
   "name": "python",
   "nbconvert_exporter": "python",
   "pygments_lexer": "ipython3",
   "version": "3.6.7"
  }
 },
 "nbformat": 4,
 "nbformat_minor": 2
}
