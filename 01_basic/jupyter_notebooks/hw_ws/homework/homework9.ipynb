{
 "cells": [
  {
   "cell_type": "markdown",
   "metadata": {},
   "source": [
    "### 1번 (3)"
   ]
  },
  {
   "cell_type": "markdown",
   "metadata": {},
   "source": [
    "### 2번 T F F T"
   ]
  },
  {
   "cell_type": "markdown",
   "metadata": {},
   "source": [
    "### 3번 article footer nav"
   ]
  },
  {
   "cell_type": "markdown",
   "metadata": {},
   "source": [
    "### 4번        \n",
    "     \n",
    "<form>\n",
    "<label for=\"id\">ID:</label>\n",
    "<input type=\"text\" name=\"id\" id=\"id\" value=\"user\">\n",
    "<br>\n",
    "<label for=\"pwd\">PWD:</label>\n",
    "<input type=\"password\" id=\"pwd\" name=\"pwd\" value=\"****\">\n",
    "<section class=\"submission\">\n",
    "<input type=\"로그인\" value=\"로그인\">\n",
    "</section>\n",
    "</form>"
   ]
  }
 ],
 "metadata": {
  "kernelspec": {
   "display_name": "Python 3",
   "language": "python",
   "name": "python3"
  },
  "language_info": {
   "codemirror_mode": {
    "name": "ipython",
    "version": 3
   },
   "file_extension": ".py",
   "mimetype": "text/x-python",
   "name": "python",
   "nbconvert_exporter": "python",
   "pygments_lexer": "ipython3",
   "version": "3.6.7"
  }
 },
 "nbformat": 4,
 "nbformat_minor": 2
}
