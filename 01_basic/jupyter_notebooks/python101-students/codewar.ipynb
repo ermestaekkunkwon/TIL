{
 "cells": [
  {
   "cell_type": "markdown",
   "metadata": {},
   "source": [
    "## 8!"
   ]
  },
  {
   "cell_type": "code",
   "execution_count": 1,
   "metadata": {},
   "outputs": [
    {
     "name": "stdout",
     "output_type": "stream",
     "text": [
      "36\n"
     ]
    }
   ],
   "source": [
    "# my answer\n",
    "\n",
    "def summation(num):\n",
    "    count = 1\n",
    "    data = []\n",
    "    while 1:\n",
    "        if num > 0:\n",
    "            num * count\n",
    "            data.append(num)\n",
    "            num -= 1\n",
    "        else:\n",
    "            return sum(data)\n",
    "\n",
    "print(summation(8))"
   ]
  },
  {
   "cell_type": "code",
   "execution_count": null,
   "metadata": {},
   "outputs": [],
   "source": [
    "def summation(num):\n",
    "    return sum(xrange(num + 1))"
   ]
  },
  {
   "cell_type": "code",
   "execution_count": null,
   "metadata": {},
   "outputs": [],
   "source": [
    "def summation(num):\n",
    "    return (1+num) * num / 2"
   ]
  },
  {
   "cell_type": "code",
   "execution_count": null,
   "metadata": {},
   "outputs": [],
   "source": [
    "def summation(num):\n",
    "    return sum(range(1,num+1))"
   ]
  },
  {
   "cell_type": "markdown",
   "metadata": {},
   "source": [
    "## set alarm"
   ]
  },
  {
   "cell_type": "code",
   "execution_count": null,
   "metadata": {},
   "outputs": [],
   "source": [
    "# my answer\n",
    "\n",
    "def set_alarm(employed, vacation):\n",
    "    if employed == 1 and vacation == 0:\n",
    "        return True\n",
    "    elif employed == 0 and vacation == 1:\n",
    "        return False\n",
    "    elif employed == 1 and vacation == 0:\n",
    "        return False\n",
    "    else:\n",
    "        return False\n",
    "\n",
    "print(set_alarm(1, 0))"
   ]
  },
  {
   "cell_type": "code",
   "execution_count": 2,
   "metadata": {},
   "outputs": [
    {
     "name": "stdout",
     "output_type": "stream",
     "text": [
      "True\n"
     ]
    }
   ],
   "source": [
    "def set_alarm(employed, vacation):\n",
    "    return employed and not vacation\n",
    "print(set_alarm(1, 0))"
   ]
  },
  {
   "cell_type": "code",
   "execution_count": 3,
   "metadata": {},
   "outputs": [
    {
     "name": "stdout",
     "output_type": "stream",
     "text": [
      "True\n"
     ]
    }
   ],
   "source": [
    "def set_alarm(employed, vacation):\n",
    "    # Your code here\n",
    "    if employed:\n",
    "        if vacation:\n",
    "            return False\n",
    "        return True\n",
    "    return False\n",
    "\n",
    "print(set_alarm(1, 0))"
   ]
  },
  {
   "cell_type": "code",
   "execution_count": null,
   "metadata": {},
   "outputs": [],
   "source": [
    "set_alarm=lambda *a:a==(1,0)"
   ]
  },
  {
   "cell_type": "markdown",
   "metadata": {},
   "source": [
    "## hello world"
   ]
  },
  {
   "cell_type": "code",
   "execution_count": 7,
   "metadata": {},
   "outputs": [
    {
     "name": "stdout",
     "output_type": "stream",
     "text": [
      "hello world\n"
     ]
    }
   ],
   "source": [
    "greet = lambda: \"hello world\"\n",
    "\n",
    "print(greet())"
   ]
  },
  {
   "cell_type": "markdown",
   "metadata": {},
   "source": [
    "## play banjo"
   ]
  },
  {
   "cell_type": "code",
   "execution_count": null,
   "metadata": {},
   "outputs": [],
   "source": [
    "# my answer\n",
    "def areYouPlayingBanjo(name):\n",
    "    if name[0].lower() == 'r':\n",
    "        return f'{name} plays banjo'\n",
    "    else:    \n",
    "        return f'{name} does not play banjo'"
   ]
  },
  {
   "cell_type": "code",
   "execution_count": null,
   "metadata": {},
   "outputs": [],
   "source": [
    "def areYouPlayingBanjo(name):\n",
    "    return name + (' plays' if name[0].lower() == 'r' else ' does not play') + \" banjo\";"
   ]
  },
  {
   "cell_type": "code",
   "execution_count": null,
   "metadata": {},
   "outputs": [],
   "source": [
    "def areYouPlayingBanjo(name):\n",
    "    if name[0].lower() == 'r':\n",
    "        return name + ' plays banjo'\n",
    "    else:\n",
    "        return name + ' does not play banjo'"
   ]
  },
  {
   "cell_type": "code",
   "execution_count": null,
   "metadata": {},
   "outputs": [],
   "source": [
    "def areYouPlayingBanjo(name):\n",
    "    if name[0] == 'r' or name[0] =='R':\n",
    "        return (\"%s plays banjo\"%name)\n",
    "    else:\n",
    "        return (\"%s does not play banjo\"%name)"
   ]
  },
  {
   "cell_type": "markdown",
   "metadata": {},
   "source": [
    "## capitalize"
   ]
  },
  {
   "cell_type": "code",
   "execution_count": null,
   "metadata": {},
   "outputs": [],
   "source": [
    "def capitalizeWord(word):\n",
    "    return word.capitalize()"
   ]
  },
  {
   "cell_type": "code",
   "execution_count": null,
   "metadata": {},
   "outputs": [],
   "source": [
    "def capitalizeWord(word):\n",
    "    return word[0].upper() + word[1:]"
   ]
  },
  {
   "cell_type": "code",
   "execution_count": null,
   "metadata": {},
   "outputs": [],
   "source": []
  }
 ],
 "metadata": {
  "kernelspec": {
   "display_name": "Python 3",
   "language": "python",
   "name": "python3"
  },
  "language_info": {
   "codemirror_mode": {
    "name": "ipython",
    "version": 3
   },
   "file_extension": ".py",
   "mimetype": "text/x-python",
   "name": "python",
   "nbconvert_exporter": "python",
   "pygments_lexer": "ipython3",
   "version": "3.6.7"
  }
 },
 "nbformat": 4,
 "nbformat_minor": 2
}
