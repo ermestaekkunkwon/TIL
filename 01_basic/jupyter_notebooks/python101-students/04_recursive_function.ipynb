{
 "cells": [
  {
   "cell_type": "code",
   "execution_count": null,
   "metadata": {},
   "outputs": [],
   "source": [
    "# 애니메이션을 위해 꼭 실행시켜주세요.\n",
    "from IPython.display import IFrame    "
   ]
  },
  {
   "cell_type": "markdown",
   "metadata": {},
   "source": [
    "# 재귀 함수(recursive function)\n",
    "\n",
    "재귀 함수는 함수 내부에서 자기 자신을 호출 하는 함수를 뜻한다."
   ]
  },
  {
   "cell_type": "markdown",
   "metadata": {},
   "source": [
    "## 실습 문제 - 팩토리얼 계산\n",
    "\n",
    "> `팩토리얼(factorial)`을 계산하는 함수 `fact(n)`를 작성해봅시다. \n",
    ">\n",
    "> n은 1보다 큰 정수라고 가정하고, 팩토리얼을 계산한 값을 반환합니다.\n",
    "\n",
    "$$\n",
    "\\displaystyle n! = \\prod_{ k = 1 }^{ n }{ k }\n",
    "$$\n",
    "\n",
    "$$\n",
    "\\displaystyle n! = 1*2*3*...*(n-1)*n\n",
    "$$\n",
    "\n",
    "---\n",
    "```\n",
    "예시 출력)\n",
    "120\n",
    "```"
   ]
  },
  {
   "cell_type": "code",
   "execution_count": 2,
   "metadata": {},
   "outputs": [
    {
     "name": "stdout",
     "output_type": "stream",
     "text": [
      "숫자를 입력하세요5\n"
     ]
    }
   ],
   "source": [
    "# 아래에 코드를 작성해주세요.\n",
    "\n",
    "input('숫자를 입력하세요')\n",
    "\n",
    "n = int()\n",
    "for i in range (1, n + 1):\n",
    "    count = 1\n",
    "    if count == n:\n",
    "        print (n * len(n), end=' ')\n",
    "\n",
    "    "
   ]
  },
  {
   "cell_type": "code",
   "execution_count": 8,
   "metadata": {},
   "outputs": [
    {
     "name": "stdout",
     "output_type": "stream",
     "text": [
      "hi, immportal hello "
     ]
    }
   ],
   "source": [
    "print ('hi, immportal', 'hello', end=' ')"
   ]
  },
  {
   "cell_type": "code",
   "execution_count": 4,
   "metadata": {},
   "outputs": [],
   "source": [
    "def fact(n):\n",
    "    result = 1\n",
    "    while n > 1:\n",
    "        result = result * n\n",
    "        n -= 1\n",
    "    return result\n",
    "    \n",
    "    "
   ]
  },
  {
   "cell_type": "code",
   "execution_count": null,
   "metadata": {},
   "outputs": [],
   "source": [
    "# 아래의 코드를 통해 fact(5) 함수를 호출해주세요.\n",
    "fact(5)"
   ]
  },
  {
   "cell_type": "markdown",
   "metadata": {},
   "source": [
    "## 예제 문제 - 재귀를 이용한 팩토리얼 계산\n",
    "\n",
    "```\n",
    "1! = 1\n",
    "2! = 1 * 2 = 1! * 2 \n",
    "3! = 1 * 2 * 3 = 2! * 3\n",
    "```"
   ]
  },
  {
   "cell_type": "code",
   "execution_count": null,
   "metadata": {},
   "outputs": [],
   "source": [
    "# 아래에 재귀함수를 이용한 팩토리얼 계산을 해봅시다.\n",
    "def factorial (n):\n",
    "    if n ==1 :\n",
    "        return n\n",
    "    else:\n",
    "        return n * factorial(n-1)\n",
    "\n",
    "print (factorial(6))\n",
    "    \n",
    "# def factorial (3):\n",
    "#     return 3 * factorial (2)"
   ]
  },
  {
   "cell_type": "code",
   "execution_count": null,
   "metadata": {},
   "outputs": [],
   "source": [
    "# 아래의 코드를 통해 factorial(5) 함수를 호출해주세요.\n",
    "factorial(5)"
   ]
  },
  {
   "cell_type": "code",
   "execution_count": null,
   "metadata": {},
   "outputs": [],
   "source": [
    "# 실행 오류 뜨면 제일 상단에 import를 반드시 해주세요.\n",
    "IFrame(\"https://goo.gl/8Cmw2X\", width='100%', height='500px')"
   ]
  },
  {
   "cell_type": "markdown",
   "metadata": {},
   "source": [
    "* 재귀 함수는 기본적으로 같은 문제이지만 점점 범위가 줄어드는 문제를 풀게 된다.\n",
    "\n",
    "* 재귀함수를 작성시에는 반드시, `base case`가 존재 하여야 한다. \n",
    "\n",
    "* `base case`는 점점 범위가 줄어들어 반복되지 않는 최종적으로 도달하는 곳이다. \n",
    "\n",
    "재귀를 이용한 팩토리얼 계산에서의 base case는 n이 1일때, 함수가 아닌 정수 반환하는 것이다."
   ]
  },
  {
   "cell_type": "markdown",
   "metadata": {},
   "source": [
    "* 자기 자신을 호출하는 재귀함수는 알고리즘 구현시 많이 사용된다.\n",
    "* 코드가 더 직관적이고 이해하기 쉬운 경우가 있음. (하지만, 만들기는 어려움)\n",
    "* [Python Tutor](https://goo.gl/k1hQYz)에 보면, 함수가 호출될 때마다 메모리 공간에 쌓이는 것을 볼 수 있다. \n",
    "* 이 경우, 메모리 스택이 넘치거나(Stack overflow) 프로그램 실행 속도가 늘어지는 단점이 생긴다.\n",
    "* 파이썬에서는 이를 방지하기 위해 1,000번이 넘어가게 되면 더이상 함수를 호출하지 않고, 종료된다."
   ]
  },
  {
   "cell_type": "code",
   "execution_count": null,
   "metadata": {},
   "outputs": [],
   "source": [
    "# 여기에서 오류를 확인해보자!"
   ]
  },
  {
   "cell_type": "markdown",
   "metadata": {},
   "source": [
    "## 실습문제 - 피보나치 수열\n",
    "\n",
    "> 피보나치 수열은 다음과 같은 점화식이 있다. \n",
    ">\n",
    "> 피보나치 값을 리턴하는 두가지 방식의 코드를 모두 작성해보자.\n",
    "\n",
    "$$\n",
    "\\displaystyle F_0 = F_1 = 1\n",
    "$$\n",
    "\n",
    "$$\n",
    "F_n=F_{n-1}+F_{n-2}\\qquad(n\\in\\{2,3,4,\\dots\\})\n",
    "$$\n",
    "\n",
    "1) `fib(n)` : 재귀함수\n",
    "\n",
    "2) `fib_loop(n)` : 반복문 활용한 함수\n",
    "\n",
    "---\n",
    "```\n",
    "예시 입력)\n",
    "fib(10)\n",
    "\n",
    "예시 호출)\n",
    "89\n",
    "```"
   ]
  },
  {
   "cell_type": "code",
   "execution_count": null,
   "metadata": {},
   "outputs": [],
   "source": [
    "# 아래에 재귀를 이용한 코드를 작성해주세요.\n",
    "[1, 1, 2, 3, 5, 8, 13, 21, 34, 55, 89]\n",
    "def fib(n):\n",
    "    if n in (0, 1):\n",
    "        return 1\n",
    "    elif n > 1:\n",
    "        return fib(n - 1) + fib(n - 2)\n",
    "\n",
    "\n",
    "# {fib(0): 1,\n",
    "#  fib(1): 1,\n",
    "#  fib(2): 2,\n",
    "#  fib(3): 3,\n",
    "#  fib(4): 5,\n",
    "#  fib(5):, 8\n",
    "# }"
   ]
  },
  {
   "cell_type": "code",
   "execution_count": null,
   "metadata": {},
   "outputs": [],
   "source": [
    "def fib2(n):\n",
    "    if n in (0, 1):\n",
    "        return 1\n",
    "    else:\n",
    "        return "
   ]
  },
  {
   "cell_type": "code",
   "execution_count": null,
   "metadata": {},
   "outputs": [],
   "source": [
    "# 아래의 코드를 통해 fib 함수를 호출해주세요.\n",
    "fib(10)"
   ]
  },
  {
   "cell_type": "code",
   "execution_count": null,
   "metadata": {},
   "outputs": [],
   "source": [
    "# 아래에 반복문을 이용한 코드를 작성해주세요.\n",
    "\n",
    "def fib_loop(n):\n",
    "    result = [1, 1]\n",
    "    for i in range (1, n):\n",
    "        result.append(result[-1] + result [-2])\n",
    "    return result [-1]\n",
    "\n",
    "fib_loop(5)"
   ]
  },
  {
   "cell_type": "code",
   "execution_count": null,
   "metadata": {},
   "outputs": [],
   "source": [
    "# 아래의 코드를 통해 fib_loop(5) 함수를 호출해주세요.\n",
    "fib_loop(10)"
   ]
  },
  {
   "cell_type": "markdown",
   "metadata": {},
   "source": [
    "## 반복문과 재귀 함수의 차이"
   ]
  },
  {
   "cell_type": "code",
   "execution_count": null,
   "metadata": {},
   "outputs": [],
   "source": [
    "# 큰 숫자를 재귀로 짜여진 fib()함수의 인자로 넘겨보세요.\n",
    "fib(33)"
   ]
  },
  {
   "cell_type": "code",
   "execution_count": null,
   "metadata": {
    "scrolled": false
   },
   "outputs": [],
   "source": [
    "# 100배 되는 숫자를 반복문으로 짜여진 fib_loop()인자로 넘겨보세요.\n",
    "fib_loop(3300)"
   ]
  },
  {
   "cell_type": "code",
   "execution_count": null,
   "metadata": {},
   "outputs": [],
   "source": [
    "# 실행 오류 뜨면 제일 상단에 import를 반드시 해주세요.\n",
    "IFrame('https://goo.gl/JZ7s15', width='100%', height='300px')"
   ]
  },
  {
   "cell_type": "markdown",
   "metadata": {},
   "source": [
    "## 실습문제 - chicken coupon\n",
    "\n",
    "> 치킨 쿠폰 3장을 모으면 한마리를 줍니다. 한마리를 시키면 한장을 줍니다.  n장이 있을 때, 몇 마리까지 먹을 수 있을까요?\n",
    "> ex) 10장 = 7장+ 1장 => 5장 + 1장 => 3 + 1 => 1+ 1"
   ]
  },
  {
   "cell_type": "code",
   "execution_count": null,
   "metadata": {},
   "outputs": [],
   "source": [
    "# n1 = 0\n",
    "# n2 = 0\n",
    "# n3 = 1\n",
    "# n4 = 1\n",
    "# n5 = 2\n",
    "# n6 = 2\n",
    "# n7 = 2\n",
    "# n8 = 3\n",
    "# n9 = 3\n",
    "# n10 = 3\n",
    "# n11 = 4\n",
    "# n12 = 4\n",
    "\n",
    "n = 100\n",
    "\n",
    "for i in range(1, n):\n",
    "    if i % 3 == 0 or i % 3 == 1:\n",
    "        print (n // 3)\n",
    "    elif i % 3 == 2:\n",
    "        print (( n//3 ) + 1)\n",
    "\n",
    "        "
   ]
  },
  {
   "cell_type": "code",
   "execution_count": null,
   "metadata": {},
   "outputs": [],
   "source": [
    "def free_chicken(coupon, N, chicken=0): # chicken = 0 이라고 설정할 수 있다.\n",
    "\n",
    "    if coupon < N:\n",
    "        return chicken\n",
    "    else:\n",
    "        coupon -= 3\n",
    "        chicken += 1\n",
    "        coupon += 1\n",
    "        return free_chicken(coupon, N, chicken)\n",
    "    \n",
    "free_chicken(100, 3)"
   ]
  },
  {
   "cell_type": "markdown",
   "metadata": {},
   "source": [
    "## 실습문제 - 개미수열 (Look & Say)\n",
    "> 붙어있는 숫자를 세어서 몇개인지 말해요.\n",
    "```\n",
    "n = 1\n",
    "[1]\n",
    "n = 2\n",
    "[1, 1]\n",
    "n = 3\n",
    "[2, 1]\n",
    "n = 4\n",
    "[1, 1, 2, 1]\n",
    "n = 5\n",
    "[1, 2, 2, 1, 1, 1]\n",
    "n = 6\n",
    "[1, 1, 2, 2, 1, 3]\n",
    "```"
   ]
  },
  {
   "cell_type": "code",
   "execution_count": null,
   "metadata": {},
   "outputs": [],
   "source": [
    "num = [1, 2, 3, 1, 2, 3, 1, 2]\n",
    "\n",
    "num.count (1)"
   ]
  },
  {
   "cell_type": "code",
   "execution_count": 8,
   "metadata": {},
   "outputs": [
    {
     "name": "stdout",
     "output_type": "stream",
     "text": [
      "[1] [1]\n"
     ]
    }
   ],
   "source": [
    "# def look_and_say(5):\n",
    "\n",
    "number = [1]\n",
    "\n",
    "for i in number:\n",
    "    \n",
    "    if number.count(1) = 1:\n",
    "        print ([number.count(1), number])\n",
    "    elif number.count(2) = 2:\n",
    "        \n",
    "    print ([number.count(1)], number)\n",
    "    "
   ]
  },
  {
   "cell_type": "code",
   "execution_count": 3,
   "metadata": {},
   "outputs": [
    {
     "data": {
      "text/plain": [
       "[1, 1, 2, 2, 1, 3]"
      ]
     },
     "execution_count": 3,
     "metadata": {},
     "output_type": "execute_result"
    }
   ],
   "source": [
    "def look_and_say(n, remain=[1], result=[]):\n",
    "    if n == 0:\n",
    "        return remain\n",
    "    \n",
    "    look = remain [0]\n",
    "    say = 0\n",
    "    \n",
    "    for index, number in enumerate(remain):\n",
    "        # 보던 애가 계속 나오면,\n",
    "        if number == look:\n",
    "            say += 1\n",
    "        # 못보던 애가 나오면,\n",
    "        else: # 앞을 자르고,\n",
    "            del(remain[0:index])\n",
    "            break # start 멈춘다\n",
    "    # for 문을 다 돌면\n",
    "    \n",
    "    else:\n",
    "        remain = []\n",
    "    \n",
    "    \n",
    "    \n",
    "    \n",
    "    # end에 look 과 say를 붙인다.\n",
    "    result += [look, say]\n",
    "    if not remain: # remain 이 비어있다면, \n",
    "        return look_and_say(n-1, result, [])\n",
    "    \n",
    "    \n",
    "    # start가 남아있다면,\n",
    "    return look_and_say(n, remain, result)\n",
    "        \n",
    "\n",
    "\n",
    "look_and_say(5)"
   ]
  },
  {
   "cell_type": "code",
   "execution_count": 4,
   "metadata": {},
   "outputs": [
    {
     "name": "stdout",
     "output_type": "stream",
     "text": [
      "[1, 1, 2, 2, 1, 3]\n"
     ]
    }
   ],
   "source": [
    "def look_and_say(n) :\n",
    "    if n == 0 :\n",
    "        return [1]\n",
    "    else :\n",
    "        list_1 = look_and_say(n - 1)\n",
    "        list_2 = []\n",
    "        number = 0;\n",
    "        num_cnt = 0;\n",
    "        i = 0;\n",
    "        while i < len(list_1) :\n",
    "            if number != list_1[i] :\n",
    "                if i != 0 :\n",
    "                    list_2.append(num_cnt)\n",
    "                list_2.append(list_1[i])\n",
    "                number = list_1[i]\n",
    "                num_cnt = 1\n",
    "            else :\n",
    "                num_cnt += 1\n",
    "            i += 1\n",
    "        list_2.append(num_cnt)\n",
    "        return list_2\n",
    "print(look_and_say(5))"
   ]
  },
  {
   "cell_type": "markdown",
   "metadata": {},
   "source": [
    "### 풀이\n",
    "\n",
    "look = list[0]; s and y = 0\n",
    "for num in list:\n",
    "    if num == look\n",
    "    say += 1\n",
    "    \n",
    "    \n",
    "1) remain [0]\n",
    "2) 본걸 다르게 나올 때까지 센다.\n",
    "3) result에 += (look, say)\n",
    "4) remain 에서 본 것을 버린다.\n",
    "\n",
    "\n",
    "\n",
    "remain 이 비면, result 를 remain으로 n -=1\n",
    "\n",
    "base n ==, remain."
   ]
  },
  {
   "cell_type": "code",
   "execution_count": 12,
   "metadata": {},
   "outputs": [
    {
     "data": {
      "text/plain": [
       "[3, 4, 5]"
      ]
     },
     "execution_count": 12,
     "metadata": {},
     "output_type": "execute_result"
    }
   ],
   "source": [
    "l = [1, 2, 3, 4, 5]\n",
    "del(l[0:2])\n",
    "l"
   ]
  },
  {
   "cell_type": "markdown",
   "metadata": {},
   "source": [
    "## 실습문제 - 하노이의 탑\n",
    "\n",
    "> 다음은 하노이의 탑이다. \n",
    ">\n",
    "> 하노이의 탑을 풀이하는 해법(한쪽 탑의 원판을 다른 탑으로 모두 옮기는 법을 출력하는 함수를 만드세요.\n",
    "\n",
    "<br>\n",
    "<br>\n",
    "<center>\n",
    "    <img src=\"./images/04/hanoi.gif\", alt=\"\">\n",
    "</center>\n",
    "\n",
    "1. 한 번에 한개의 층만을 다른 기둥으로 옮길 수 있다\n",
    "2. 옮기려는 기둥에는 아무것도 없거나 옮기려는 층보다 큰 층이 있을 경우에만 옮길 수 있다\n",
    "3. 옮기려는 기둥에 옮기려는 층보다 작은 층이 이미 있을 경우 그 기둥으로 옮길 수 없다.\n",
    "4. 가능한 적은 회수로 전체 탑을 다른 기둥으로 옮긴다."
   ]
  },
  {
   "cell_type": "code",
   "execution_count": 22,
   "metadata": {},
   "outputs": [
    {
     "name": "stdout",
     "output_type": "stream",
     "text": [
      "1 move 3 => 3\n",
      "2 move 3 => 1\n",
      "1 move 3 => 1\n",
      "3 move 3 => 3\n",
      "1 move 1 => 3\n",
      "2 move 1 => 3\n",
      "1 move 3 => 3\n",
      "4 move 3 => 1\n",
      "1 move 3 => 1\n",
      "2 move 3 => 3\n",
      "1 move 1 => 3\n",
      "3 move 3 => 1\n",
      "1 move 3 => 3\n",
      "2 move 3 => 1\n",
      "1 move 3 => 1\n",
      "5 move 3 => 3\n",
      "1 move 1 => 3\n",
      "2 move 1 => 3\n",
      "1 move 3 => 3\n",
      "3 move 1 => 3\n",
      "1 move 3 => 1\n",
      "2 move 3 => 3\n",
      "1 move 1 => 3\n",
      "4 move 1 => 3\n",
      "1 move 3 => 3\n",
      "2 move 3 => 1\n",
      "1 move 3 => 1\n",
      "3 move 3 => 3\n",
      "1 move 1 => 3\n",
      "2 move 1 => 3\n",
      "1 move 3 => 3\n"
     ]
    }
   ],
   "source": [
    "# 아래에 코드를 작성해주세요.\n",
    "def hanoi(n, start, waypoint, destination):\n",
    "  if n == 0:\n",
    "      # 탈출 조건\n",
    "      return\n",
    "  # 크게 두번 옮긴다.\n",
    "  # 1. 일단 n-1까지를 출발 기둥(Start)에서 중간 기둥(Waypoint)을 거쳐 도착 기동(Destination)으로 옮긴다.\n",
    "  hanoi(n - 1, start, destination, waypoint)\n",
    "  # 2. 그리고 출발 기둥(Start)에 남아있는 n번째(제일 큰) 원판을 도착 기동(Destination)기둥으로 바로 옯긴다.\n",
    "  print('{} move {} => {}'.format(n, start, destination))\n",
    "  # 3. 중간 기둥(Waypoint)에 남아있는 n-1까지들을 다시 출발 기둥(Start)를 겨처 도착 기동(Destination)으로 옮긴다.\n",
    "  hanoi(n - 1, waypoint, start, destination)\n",
    "\n",
    "hanoi (5, 3, 1, 3)"
   ]
  }
 ],
 "metadata": {
  "kernelspec": {
   "display_name": "Python 3",
   "language": "python",
   "name": "python3"
  },
  "language_info": {
   "codemirror_mode": {
    "name": "ipython",
    "version": 3
   },
   "file_extension": ".py",
   "mimetype": "text/x-python",
   "name": "python",
   "nbconvert_exporter": "python",
   "pygments_lexer": "ipython3",
   "version": "3.6.7"
  },
  "latex_envs": {
   "LaTeX_envs_menu_present": true,
   "autoclose": false,
   "autocomplete": true,
   "bibliofile": "biblio.bib",
   "cite_by": "apalike",
   "current_citInitial": 1,
   "eqLabelWithNumbers": true,
   "eqNumInitial": 1,
   "hotkeys": {
    "equation": "Ctrl-E",
    "itemize": "Ctrl-I"
   },
   "labels_anchors": false,
   "latex_user_defs": false,
   "report_style_numbering": false,
   "user_envs_cfg": false
  },
  "toc": {
   "base_numbering": 1,
   "nav_menu": {},
   "number_sections": true,
   "sideBar": true,
   "skip_h1_title": false,
   "title_cell": "Table of Contents",
   "title_sidebar": "Contents",
   "toc_cell": false,
   "toc_position": {},
   "toc_section_display": true,
   "toc_window_display": false
  }
 },
 "nbformat": 4,
 "nbformat_minor": 2
}
