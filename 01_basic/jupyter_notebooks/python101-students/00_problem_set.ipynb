{
 "cells": [
  {
   "cell_type": "markdown",
   "metadata": {},
   "source": [
    "# Problem set"
   ]
  },
  {
   "cell_type": "markdown",
   "metadata": {},
   "source": [
    "**190108**"
   ]
  },
  {
   "cell_type": "markdown",
   "metadata": {},
   "source": [
    "## 1. 이상한 덧셈\n",
    "> 숫자로 구성된 리스트에서 양의 정수의 합을 구하는 함수, `positive_sum`을 만들어 보아요\n",
    "\n",
    "예시)\n",
    "```python\n",
    "positive_sum([1, -10, 2]) # 3\n",
    "positive_sum([-1, -2, -3, -4]) # 0\n",
    "```\n"
   ]
  },
  {
   "cell_type": "code",
   "execution_count": null,
   "metadata": {},
   "outputs": [],
   "source": [
    "numbers = [-1, 4, 5]\n",
    "\n",
    "for number in numbers: # for을 쓰면 개인별로 간다는 것을 할 수 있다.\n",
    "    if number > 0:\n",
    "        tmp = []\n",
    "        tmp.append(number)\n",
    "        print (tmp)"
   ]
  },
  {
   "cell_type": "code",
   "execution_count": null,
   "metadata": {},
   "outputs": [],
   "source": [
    "def positive_sum(numbers):\n",
    "    while number > 0:\n",
    "        if number == int():\n",
    "            tmp = []\n",
    "            tmp.append(number)\n",
    "            ss = sum(tmp)\n",
    "    return ss\n",
    "\n",
    "positive_sum([1, 4, 5])"
   ]
  },
  {
   "cell_type": "code",
   "execution_count": null,
   "metadata": {},
   "outputs": [],
   "source": [
    "def positive_sum(numbers):\n",
    "    total = 0\n",
    "    for number in numbers:\n",
    "        if number > 0:\n",
    "            total += number\n",
    "    return total\n",
    "\n",
    "def pos_sum(numbers):\n",
    "    return sum(x for x in numbers if x > 0)\n",
    "\n",
    "\n",
    "print(positive_sum([-1, 5, 6])) # 무조건 대괄호를 추가시키자!"
   ]
  },
  {
   "cell_type": "markdown",
   "metadata": {},
   "source": [
    "### 2. 문자열 탐색\n",
    "> 문자열 요소로만 이루어진 리스트를 넣었을 때, 문자열의 길이가 2 이상이고, 주어진 문자열의 첫 번째와 마지막 문자가 같은 문자열의 수를 세는 함수 `start_end`를 작성하세요.\n",
    "\n",
    "예시)\n",
    "```python\n",
    "start_end(['level', 'asdwe', 's', 'abadsfa', 'q1q'] # 3\n",
    "```"
   ]
  },
  {
   "cell_type": "code",
   "execution_count": null,
   "metadata": {},
   "outputs": [],
   "source": [
    "asd = ['level', 'asdwe', 's', 'abadsfa', 'q1q']\n",
    "\n",
    "for i in asd:\n",
    "    if (len(i) >= 2) and (i[0] == i[-1]):\n",
    "        print (asd.count(i))"
   ]
  },
  {
   "cell_type": "code",
   "execution_count": null,
   "metadata": {},
   "outputs": [],
   "source": [
    "def start_end(words):\n",
    "    count = 0\n",
    "    for word in words:\n",
    "        if len(word) > 1 and word[0] == word[-1]:\n",
    "            count += 1\n",
    "    return count\n",
    "\n",
    "print(start_end(['level', 'asdwe', 's', 'abadsfa', 'q1q']))"
   ]
  },
  {
   "cell_type": "markdown",
   "metadata": {},
   "source": [
    "### 3. collatz\n",
    "> colllatz 추측 : 어떤 자연수 n 이던지, 다음과 같은 작업을 반복하면 1로 만들 수 있다.\n",
    "\n",
    "1. n이 짝수라면 2로 나눈다\n",
    "2. n이 홀수라면 3을 곱하고 1을 더한다.\n",
    "3. 결과로 나온 수에 1 / 2의 작업을 1이 될 때까지 반복한다.\n",
    "\n",
    "> 예를 들어 n이 6이면 6 => 3 => 10 => 5 => 16 => 8 => 4 => 2 => 1 이 되며 8번 (=> 갯수!) 만에 1이 됩니다. 자연수 n이 들어왔을 때, 몇 번의 작업만에 1이 되는지를 `return` 하는 함수 `collatz()`를 완성하세요\n",
    "\n",
    "> 단 500번을 넘어가도 1이 되지 않는다면, -1을 `return` 할게요!\n",
    "예시)\n",
    "```python\n",
    "collatz(6) # 8\n",
    "collatz(16) # 16\n",
    "```"
   ]
  },
  {
   "cell_type": "code",
   "execution_count": null,
   "metadata": {},
   "outputs": [],
   "source": [
    "user = int(input(\"Enter a number: \"))\n",
    "\n",
    "\n",
    "def collatz(n):\n",
    "    while n != 1:\n",
    "        if n % 2 == 0:\n",
    "            n = n // 2\n",
    "            print(n)\n",
    "        else:\n",
    "            n = n * 3 + 1\n",
    "            print(n)\n",
    "\n",
    "\n",
    "collatz(user)\n",
    "    "
   ]
  },
  {
   "cell_type": "code",
   "execution_count": null,
   "metadata": {},
   "outputs": [],
   "source": [
    "def collatz(n):\n",
    "    for i in range(500):\n",
    "        if n % 2: # 0이 아니면 True => 홀수\n",
    "            n = n * 3 + 1\n",
    "        else: # 짝수면\n",
    "            n = n / 2\n",
    "        # num = num * 3 + 1 if num % 2 else num / 2\n",
    "        \n",
    "        if n == 1:\n",
    "            return i + 1\n",
    "    \n",
    "    return - 1\n",
    "\n",
    "collatz(10)"
   ]
  },
  {
   "cell_type": "code",
   "execution_count": null,
   "metadata": {},
   "outputs": [],
   "source": [
    "def collaftz(n):\n",
    "    for i in range(500):\n",
    "        count = 0\n",
    "        while n != 1:\n",
    "            if n % 2 == 0:\n",
    "                n = n / 2\n",
    "                # collaftz(n)\n",
    "                \n",
    "                count += 1\n",
    "            else:\n",
    "                n = n * 3 + 1\n",
    "#                 collaftz(n)\n",
    "                count += 1\n",
    "        return count\n",
    "    return -1\n",
    "\n",
    "collaftz(10)"
   ]
  },
  {
   "cell_type": "markdown",
   "metadata": {},
   "source": [
    "### 4. 솔로 천국\n",
    "> 리스트가 주어질 때, 리스트이 요소 `e`는 `ragne(0, 10)`에 포함되는 자연수이다. 리스트에서 연속적으로 나타나는 숫자는 하나만 남기고 전부 제거하여 `return`하는 함수 `lonely()`를 작성해보세요. 이때! 제거된 후 남은 수들을 반환할 때는 리스트이 요소들이 순서를 유지해야 합니다!\n",
    "\n",
    "예시)\n",
    "```python\n",
    "lonely([1, 1, 3, 3, 0, 1, 1, 3, 0, 3,)] # [1, 3, 0]\n",
    "lonely ([4, 4, 3, 3, 3, 4]) # [4, 3]\n",
    "```\n",
    "\n",
    "{ 'key1' : 'value', 'key2' : 'value2'}"
   ]
  },
  {
   "cell_type": "code",
   "execution_count": null,
   "metadata": {},
   "outputs": [],
   "source": [
    "def lonely(numbers):\n",
    "    result = []\n",
    "    for number in numbers:\n",
    "        if not result:\n",
    "            result.append(number)\n",
    "        elif result [-1] != number:\n",
    "            if result.count(number) == 0:\n",
    "                result.append(number)\n",
    "    return result\n",
    "\n",
    "lonely([1, 1, 3, 3, 0, 1, 1, 3, 0, 3])\n",
    "    "
   ]
  },
  {
   "cell_type": "code",
   "execution_count": null,
   "metadata": {},
   "outputs": [],
   "source": [
    "def lonely(numbers):\n",
    "    result = []\n",
    "    for number in numbers:\n",
    "        if number not in result:\n",
    "            result.append(number)\n",
    "\n",
    "    return result\n",
    "\n",
    "lonely([1, 1, 3, 3, 0, 1, 1, 3, 0, 3])"
   ]
  },
  {
   "cell_type": "code",
   "execution_count": null,
   "metadata": {},
   "outputs": [],
   "source": [
    "def lonely(numbers):\n",
    "    result = []\n",
    "    for number in numbers:\n",
    "        if not result or (result[-1] != number and result.count(number) == 0):\n",
    "            result.append(number)\n",
    "\n",
    "    return result\n",
    "\n",
    "lonely([1, 1, 3, 3, 0, 1, 1, 3, 0, 3])"
   ]
  },
  {
   "cell_type": "markdown",
   "metadata": {},
   "source": [
    "### 5. * RGB 삼각형\n",
    "\n",
    "| BG | RG | BR | RR | GG | BB |\n",
    "|----|----|----|----|----|----|\n",
    "|R   |B   |G   |R   |G   |B   |\n",
    "\n",
    ">입력으로 `'R', 'G', 'B'`가 섞여있는 문자열이 들어온다. 문자열은 다음과 같이 합쳐진다. 해당 문자열을 처리하여 마지막 색깔만 `return`하는 `triangle()`을 작성하세요.\n",
    "\n",
    "```\n",
    "R R G B R G B B\n",
    " R B R G B R B\n",
    "  G G B R G G\n",
    "   G R G B G\n",
    "    B B R R\n",
    "     B G R\n",
    "      R B\n",
    "       G\n",
    "```\n",
    "\n",
    "예시)\n",
    "```python\n",
    "triangle('RRGBRGBB') # G\n",
    "triangle('GB') # R\n",
    "triangle('B') # B\n",
    "triangle('RGBG') # 'B'\n",
    "```"
   ]
  },
  {
   "cell_type": "code",
   "execution_count": null,
   "metadata": {},
   "outputs": [],
   "source": [
    "import random\n",
    "\n",
    "color = ['R', 'G', 'B']\n",
    "print (random.choice(color))"
   ]
  },
  {
   "cell_type": "markdown",
   "metadata": {},
   "source": [
    "### 6. 홀수개를 찾아라\n",
    "> 입력으로 list가 한 개 들어옵니다. 이 list에는 1개의 숫자만 홀수개 들어있습니다. 이 1개의 홀수개인 숫자를 `return`하는 `find_odd()`를 작성하세요\n",
    "\n",
    "예시)\n",
    "```\n",
    "find_odd([1, 1, 2, 2, 3, 3, 3]) # 3\n",
    "find_odd([2, 1, 2]) # 1\n",
    "find_odd([1, 2, 2, 3, 2, 2, 1]) # 3\n",
    "find_odd([1,1,2,3,3,2,2]) # 2\n",
    "```\n"
   ]
  },
  {
   "cell_type": "code",
   "execution_count": null,
   "metadata": {},
   "outputs": [],
   "source": [
    "def find_odd(numbers):\n",
    "    odds = []\n",
    "    for n in numbers:\n",
    "        while numbers.count(n) % 2 == 1:\n",
    "            odds.append(n)\n",
    "            return odds[0]\n",
    "    \n",
    "\n",
    "find_odd([1,1,2,2,2])\n"
   ]
  },
  {
   "cell_type": "code",
   "execution_count": null,
   "metadata": {},
   "outputs": [],
   "source": [
    "def finds_odd(numbers):\n",
    "    for uniq in list(set(numbers)): # 중복을 없앤다.\n",
    "        if numbers.count(uniq) % 2:\n",
    "            return uniq\n",
    "\n",
    "finds_odd([1, 1, 1, 2, 2])"
   ]
  },
  {
   "cell_type": "code",
   "execution_count": null,
   "metadata": {},
   "outputs": [],
   "source": [
    "from operator import xor\n",
    "\n",
    "def find_odd1(numbers):\n",
    "    result = 0\n",
    "    for n in numbers:\n",
    "        result = result ^ n  # xor을 의미한다\n",
    "    return result\n",
    "\n",
    "def find_odd2(numbers):\n",
    "    return reduce(xor, numbers)\n",
    "\n",
    "find_odd1([1, 2, 2, 3, 2, 2, 1])"
   ]
  },
  {
   "cell_type": "markdown",
   "metadata": {},
   "source": [
    "\n",
    "\n",
    "[1, 2, 1]\n",
    "\n",
    "01\n",
    "10\n",
    "11\n",
    "\n",
    "1 = 01\n",
    "2 = 10\n",
    "3 = 11\n",
    "4= 100"
   ]
  },
  {
   "cell_type": "markdown",
   "metadata": {},
   "source": [
    "**190109**"
   ]
  },
  {
   "cell_type": "markdown",
   "metadata": {},
   "source": [
    "### 1. UP & DOWN\n",
    "> 우리가 `range(1, 101)` 입력한다. 컴퓨터가 절반에 위치한 숫자를 물어보고, 생각한 수보다 크면 1, 작으면 -1 맞으면 0을 입력한다. 이때 몇번만에 컴퓨터가 맞췄는지 출력하고 프로그램을 끝낸다.\n",
    "\n",
    "에시)\n",
    "```sh\n",
    "숫자를 생각하세요.\n",
    "50\n",
    "> -1\n",
    "25\n",
    "> -1\n",
    "13\n",
    "> -1\n",
    "7\n",
    "> 1\n",
    "10\n",
    "> 1\n",
    "12\n",
    "> 0\n",
    "6번만에 맞춤\n",
    "```\n",
    "\n",
    "\n",
    "```python\n",
    "def guess_up_down():\n",
    "    print('숫자를 생각하세요....')\n",
    "    n = 100 //2\n",
    "    print (n)\n",
    "    count += 1\n",
    "    user_feedback = input('작으면 -1, 맞으면 0, 크면 1')\n",
    "    \n",
    "    print(f' {count} 번만에 맞췄네')\n",
    "```"
   ]
  },
  {
   "cell_type": "code",
   "execution_count": null,
   "metadata": {},
   "outputs": [],
   "source": [
    "def guess_up_down(number):\n",
    "    print(random.randrange(0,101))\n",
    "    count = 0\n",
    "    user_feedback = input() #작으면 -1, 맞으면 0, 크면 1\n",
    "    while user_feedback != 0:\n",
    "        if number != user_feedback:\n",
    "            count +=1\n",
    "        else:\n",
    "            return count and print (f' {count} 번만에 맞췄네')\n",
    "\n",
    "    \n",
    "    \n",
    "\n",
    "guess_up_down(100)"
   ]
  },
  {
   "cell_type": "code",
   "execution_count": null,
   "metadata": {},
   "outputs": [],
   "source": [
    "import random\n",
    "\n",
    "def guess_up_down():\n",
    "    print(random.randrange(0,101))\n",
    "    count = 0\n",
    "    user_feedback = input() #작으면 -1, 맞으면 0, 크면 1\n",
    "    while user_feedback != 0:\n",
    "        if number != user_feedback:\n",
    "            count +=1\n",
    "        else:\n",
    "            return count and print (f' {count} 번만에 맞췄네')\n",
    "\n",
    "    \n",
    "    \n",
    "\n",
    "guess_up_down()"
   ]
  },
  {
   "cell_type": "code",
   "execution_count": null,
   "metadata": {},
   "outputs": [],
   "source": [
    "import random\n",
    "\n",
    "def guess_up_down():\n",
    "    print(random.randrange(0,101))\n",
    "    count = 0\n",
    "    number_1 = int()\n",
    "    number_2 = int()\n",
    "    user_feedback = input()\n",
    "    while number_1 and number_2 in random.randrange(0, 101):\n",
    "        while number_1 + number_2 // 2:\n",
    "            if user_feedback != 0:\n",
    "                count += 1\n",
    "            else:\n",
    "                return count\n",
    "\n",
    "\n",
    "guess_up_down()"
   ]
  },
  {
   "cell_type": "code",
   "execution_count": null,
   "metadata": {},
   "outputs": [],
   "source": [
    "def guess_up_down():\n",
    "    count = 0\n",
    "    max_n, min_n = 101, 0\n",
    "    print('숫자를 생각하세요..!')\n",
    "    \n",
    "    while 1:\n",
    "        guess = (max_n + min_n) // 2\n",
    "        print(guess)\n",
    "        count += 1\n",
    "        feedback = int(input('작으면 -1, 크면 1, 맞으면 0: '))\n",
    "        \n",
    "        if feedback == -1:\n",
    "            max_n = guess\n",
    "        elif feedback == 1:\n",
    "            min_n = guess\n",
    "        else:\n",
    "            return count and print (f' {count} 번만에 맞췄네')\n",
    "\n",
    "guess_up_down()"
   ]
  },
  {
   "cell_type": "markdown",
   "metadata": {},
   "source": [
    "## 풀이\n",
    "\n",
    "minimum = 0\n",
    "maximum = 100\n",
    "\n",
    "(minimum + maximum) // 2 == 50\n",
    "\n",
    "down\n",
    "\n",
    "minimum = 0\n",
    "maximum = 50\n",
    "\n",
    "(minimum + maximum) // 2 == 25\n",
    "\n",
    "up\n",
    "\n",
    "minimum = 25\n",
    "maximum = 50\n",
    "\n",
    "(minimum + maximum) // 2 == 37\n",
    "\n",
    "down\n",
    "\n",
    "minimum = 25\n",
    "maximum = 37\n",
    "\n",
    "(minimum + maximum) // 2 == 31\n",
    "\n",
    "up\n",
    "\n",
    "minimum = 31\n",
    "maximum = 37\n",
    "\n",
    "(minimum + maximum) // 2 == 34\n",
    "\n",
    "up\n",
    "\n",
    "minimum = 34\n",
    "maximum = 37\n",
    "\n",
    "(minimum + maximum) // 2 == 35\n",
    "\n",
    "up\n",
    "\n",
    "minimum = 35\n",
    "maximum = 37\n",
    "\n",
    "(minimum + maximum) // 2 == 36\n",
    "\n",
    "yes"
   ]
  },
  {
   "cell_type": "markdown",
   "metadata": {},
   "source": [
    "### 190110"
   ]
  },
  {
   "cell_type": "markdown",
   "metadata": {},
   "source": [
    "### Hangman\n",
    "> 필요한 함수들"
   ]
  },
  {
   "cell_type": "code",
   "execution_count": null,
   "metadata": {},
   "outputs": [],
   "source": [
    "def is_answer(answer, letters):\n",
    "    answer = str()\n",
    "    letters = list(answer.split())\n",
    "    if answer != letters:\n",
    "        return False\n",
    "    else:\n",
    "        return True\n",
    "    \n",
    "\n",
    "is_answer('apple', ['a', 'p', 'l']) # False"
   ]
  },
  {
   "cell_type": "code",
   "execution_count": null,
   "metadata": {},
   "outputs": [],
   "source": [
    "def is_answer(answer, letters): # set은 중복을 없앤다!!\n",
    "    answer = set(answer)\n",
    "    count = 0\n",
    "    for char in set(letters):\n",
    "        if char in answer:\n",
    "            count += 1\n",
    "    return len(answer) == count\n",
    "\n",
    "is_answer('apple', ['a', 'p', 'l', 'e'])"
   ]
  },
  {
   "cell_type": "code",
   "execution_count": null,
   "metadata": {},
   "outputs": [],
   "source": [
    "def status(answer, letters):\n",
    "    for char in answer:\n",
    "        if char not in letters:\n",
    "            answer = answer.replace(char, ' _ ')\n",
    "    return answer\n",
    "            \n",
    "status ('apple', ['a', 'f'])"
   ]
  },
  {
   "cell_type": "markdown",
   "metadata": {},
   "source": [
    "#### Hangman 로직만들기\n",
    "> 위의 코드를 활용하여 `hangman(answer)` 를 만들자!\n",
    "> 자기 답을 맞추거나, 시도가 8번을 넘어가면 종료!"
   ]
  },
  {
   "cell_type": "code",
   "execution_count": null,
   "metadata": {},
   "outputs": [],
   "source": [
    "# import string\n",
    "\n",
    "# string.ascii_lowercase\n",
    "# list(string.ascii_lowercase)"
   ]
  },
  {
   "cell_type": "code",
   "execution_count": null,
   "metadata": {},
   "outputs": [],
   "source": [
    "# -*-coding: utf8-*-\n",
    "\n",
    "def hangman(answer):\n",
    "    input_letters = []\n",
    "    attempt = 8\n",
    "    print('===START===')\n",
    "    \n",
    "    while 1: # while True랑 같다.\n",
    "        print(\"남은 목숨: \" + '♥' * attempt)\n",
    "        print(status(answer, input_letters))\n",
    " \n",
    "        \n",
    "        guess = input('알파벳을 입력하세요: ').lower()\n",
    "        input_letters.append(guess)\n",
    "        \n",
    "        if is_answer(answer, input_letters):\n",
    "            return '성공!'\n",
    "        else:\n",
    "            attempt -= 1\n",
    "        \n",
    "        if not attempt:\n",
    "            return '실패'\n",
    "        \n",
    "hangman('apple')\n",
    "        "
   ]
  },
  {
   "cell_type": "code",
   "execution_count": null,
   "metadata": {},
   "outputs": [],
   "source": [
    "def hangman(answer):\n",
    "    answer = list(answer)\n",
    "    count = 0\n",
    "    letters = []\n",
    "    while 1:\n",
    "        my_hunch = input().lower()    # 여기다 리스트를 넣으면 일시적임\n",
    "        for char in my_hunch:\n",
    "            if char not in answer:\n",
    "                count +=1             # for에서의 value를 헷갈리지말자!\n",
    "                if count == 9:\n",
    "                    return 'You have Failed! You loser!'\n",
    "            elif char in answer:\n",
    "                letters.append(char)\n",
    "                break\n",
    "        if len(my_hunch) == len(answer):\n",
    "                    return 'You are correct!'\n",
    "\n",
    "            \n",
    "        \n",
    "\n",
    "hangman('taek')"
   ]
  },
  {
   "cell_type": "code",
   "execution_count": 2,
   "metadata": {},
   "outputs": [
    {
     "name": "stdout",
     "output_type": "stream",
     "text": [
      "t\n",
      "a\n",
      "e\n",
      "k\n"
     ]
    },
    {
     "data": {
      "text/plain": [
       "'You are correct!'"
      ]
     },
     "execution_count": 2,
     "metadata": {},
     "output_type": "execute_result"
    }
   ],
   "source": [
    "def hangman(answer):\n",
    "    answer = list(answer)\n",
    "    count = 0\n",
    "    my_hunch = []\n",
    "    while 1:\n",
    "        a = input()\n",
    "        my_hunch.append(a)   \n",
    "        for char in my_hunch:\n",
    "            if char not in answer:\n",
    "                count +=1\n",
    "                if count == 9:\n",
    "                    return 'You have Failed! You loser!'\n",
    "            elif char in answer:\n",
    "                if len(my_hunch) == len(answer):\n",
    "                    return 'You are correct!'\n",
    "\n",
    "            \n",
    "        \n",
    "\n",
    "hangman('taek')"
   ]
  },
  {
   "cell_type": "code",
   "execution_count": null,
   "metadata": {},
   "outputs": [],
   "source": [
    "def hangman(answer):\n",
    "    answer = set(answer)\n",
    "    count = 0\n",
    "    my_hunch = str()\n",
    "    my_hunch = set(my_hunch)\n",
    "    while 1:\n",
    "        a = input() \n",
    "        for char in a:\n",
    "            if char not in answer:\n",
    "                count +=1\n",
    "                if count == 9:\n",
    "                    return 'You have Failed! You loser!'\n",
    "            elif char in answer:\n",
    "                my_hunch.add(a)\n",
    "                if len(my_hunch) == len(answer):\n",
    "                    return 'You are correct!'\n",
    "\n",
    "            \n",
    "        \n",
    "\n",
    "hangman('apple')"
   ]
  }
 ],
 "metadata": {
  "kernelspec": {
   "display_name": "Python 3",
   "language": "python",
   "name": "python3"
  },
  "language_info": {
   "codemirror_mode": {
    "name": "ipython",
    "version": 3
   },
   "file_extension": ".py",
   "mimetype": "text/x-python",
   "name": "python",
   "nbconvert_exporter": "python",
   "pygments_lexer": "ipython3",
   "version": "3.6.7"
  }
 },
 "nbformat": 4,
 "nbformat_minor": 2
}
