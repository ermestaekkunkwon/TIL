{
 "cells": [
  {
   "cell_type": "code",
   "execution_count": 5,
   "metadata": {
    "scrolled": true
   },
   "outputs": [],
   "source": [
    "num1 = 6\n",
    "num2 = 7"
   ]
  },
  {
   "cell_type": "code",
   "execution_count": 6,
   "metadata": {
    "scrolled": true
   },
   "outputs": [
    {
     "data": {
      "text/plain": [
       "13"
      ]
     },
     "execution_count": 6,
     "metadata": {},
     "output_type": "execute_result"
    }
   ],
   "source": [
    "num1 + num2"
   ]
  },
  {
   "cell_type": "code",
   "execution_count": null,
   "metadata": {},
   "outputs": [],
   "source": [
    "num1 = []\n",
    "num2 = []\n",
    "# 최대 공약수를 위해서라면 1부터 가장 작은 숫자끼리 비교하여 나눠보고 두개의 변수의 나머지가 0이 되는 그 순간을 제작한다.\n",
    "# if 와 elif 등을 이용해서 무한반복이 중요하다!\n",
    "\n",
    "# 최소 공배수도 위해서라면 최대공약수와 나머지 몫들을 일일히 곱한다.\n",
    "\n",
    "\n",
    "# 최대공약수\n",
    "if num1 > num2 ():\n",
    "    num1 / num2\n",
    "\n",
    "elif num1 < num2 ():\n",
    "    num2 / num1\n",
    "gcd = \n",
    "# 최소공배수\n",
    "lcm = "
   ]
  }
 ],
 "metadata": {
  "kernelspec": {
   "display_name": "Python 3",
   "language": "python",
   "name": "python3"
  },
  "language_info": {
   "codemirror_mode": {
    "name": "ipython",
    "version": 3
   },
   "file_extension": ".py",
   "mimetype": "text/x-python",
   "name": "python",
   "nbconvert_exporter": "python",
   "pygments_lexer": "ipython3",
   "version": "3.6.7"
  }
 },
 "nbformat": 4,
 "nbformat_minor": 2
}
