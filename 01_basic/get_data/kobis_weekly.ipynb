{
 "cells": [
  {
   "cell_type": "code",
   "execution_count": 23,
   "metadata": {},
   "outputs": [],
   "source": [
    "key = ''  # 환경변수로 옮기자!\n",
    "URL = f'http://www.kobis.or.kr/kobisopenapi/webservice/rest/boxoffice/searchWeeklyBoxOfficeList.json?key={key}&targetDt=20190113&weekGb=0'"
   ]
  },
  {
   "cell_type": "code",
   "execution_count": 24,
   "metadata": {},
   "outputs": [
    {
     "name": "stdout",
     "output_type": "stream",
     "text": [
      "[{'rnum': '1', 'rank': '1', 'rankInten': '8', 'rankOldAndNew': 'OLD', 'movieCd': '20184105', 'movieNm': '말모이', 'openDt': '2019-01-09', 'salesAmt': '8896251031', 'salesShare': '28.9', 'salesInten': '8025880431', 'salesChange': '922.1', 'salesAcc': '10070068631', 'audiCnt': '1033187', 'audiInten': '934370', 'audiChange': '945.6', 'audiAcc': '1185368', 'scrnCnt': '1203', 'showCnt': '24739'}, {'rnum': '2', 'rank': '2', 'rankInten': '19', 'rankOldAndNew': 'OLD', 'movieCd': '20176251', 'movieNm': '내안의 그놈', 'openDt': '2019-01-09', 'salesAmt': '6476584476', 'salesShare': '21.0', 'salesInten': '6432995476', 'salesChange': '14758.3', 'salesAcc': '6638709476', 'audiCnt': '744989', 'audiInten': '739766', 'audiChange': '14163.6', 'audiAcc': '765383', 'scrnCnt': '1041', 'showCnt': '15889'}, {'rnum': '3', 'rank': '3', 'rankInten': '-1', 'rankOldAndNew': 'OLD', 'movieCd': '20189463', 'movieNm': '주먹왕 랄프 2: 인터넷 속으로', 'openDt': '2019-01-03', 'salesAmt': '4580087005', 'salesShare': '14.9', 'salesInten': '-1528671143', 'salesChange': '-25.0', 'salesAcc': '10731240153', 'audiCnt': '583962', 'audiInten': '-169875', 'audiChange': '-22.5', 'audiAcc': '1342315', 'scrnCnt': '1185', 'showCnt': '22134'}, {'rnum': '4', 'rank': '4', 'rankInten': '-3', 'rankOldAndNew': 'OLD', 'movieCd': '20180290', 'movieNm': '아쿠아맨', 'openDt': '2018-12-19', 'salesAmt': '3280232985', 'salesShare': '10.6', 'salesInten': '-8438801763', 'salesChange': '-72.0', 'salesAcc': '43125562814', 'audiCnt': '376349', 'audiInten': '-963871', 'audiChange': '-71.9', 'audiAcc': '4920735', 'scrnCnt': '1086', 'showCnt': '17974'}, {'rnum': '5', 'rank': '5', 'rankInten': '49', 'rankOldAndNew': 'OLD', 'movieCd': '20183915', 'movieNm': '극장판 공룡메카드: 타이니소어의 섬', 'openDt': '2019-01-10', 'salesAmt': '2230689440', 'salesShare': '7.2', 'salesInten': '2226081440', 'salesChange': '48309.1', 'salesAcc': '2236575440', 'audiCnt': '289219', 'audiInten': '288707', 'audiChange': '56388.1', 'audiAcc': '289873', 'scrnCnt': '763', 'showCnt': '7597'}, {'rnum': '6', 'rank': '6', 'rankInten': '-2', 'rankOldAndNew': 'OLD', 'movieCd': '20185485', 'movieNm': '보헤미안 랩소디', 'openDt': '2018-10-31', 'salesAmt': '1520514090', 'salesShare': '4.9', 'salesInten': '-2777805660', 'salesChange': '-64.6', 'salesAcc': '84970758385', 'audiCnt': '175249', 'audiInten': '-317008', 'audiChange': '-64.4', 'audiAcc': '9785643', 'scrnCnt': '653', 'showCnt': '8554'}, {'rnum': '7', 'rank': '7', 'rankInten': '20', 'rankOldAndNew': 'OLD', 'movieCd': '20184574', 'movieNm': '그린 북', 'openDt': '2019-01-09', 'salesAmt': '821545524', 'salesShare': '2.7', 'salesInten': '793530924', 'salesChange': '2832.6', 'salesAcc': '889374224', 'audiCnt': '92682', 'audiInten': '89768', 'audiChange': '3080.6', 'audiAcc': '99569', 'scrnCnt': '398', 'showCnt': '4521'}, {'rnum': '8', 'rank': '8', 'rankInten': '-3', 'rankOldAndNew': 'OLD', 'movieCd': '20186281', 'movieNm': '범블비', 'openDt': '2018-12-25', 'salesAmt': '518826110', 'salesShare': '1.7', 'salesInten': '-3112095215', 'salesChange': '-85.7', 'salesAcc': '13026874637', 'audiCnt': '63391', 'audiInten': '-370566', 'audiChange': '-85.4', 'audiAcc': '1553491', 'scrnCnt': '632', 'showCnt': '5383'}, {'rnum': '9', 'rank': '9', 'rankInten': '-6', 'rankOldAndNew': 'OLD', 'movieCd': '20170658', 'movieNm': 'PMC: 더 벙커', 'openDt': '2018-12-26', 'salesAmt': '488207980', 'salesShare': '1.6', 'salesInten': '-4634378997', 'salesChange': '-90.5', 'salesAcc': '13976496874', 'audiCnt': '57525', 'audiInten': '-536249', 'audiChange': '-90.3', 'audiAcc': '1665204', 'scrnCnt': '670', 'showCnt': '5991'}, {'rnum': '10', 'rank': '10', 'rankInten': '-4', 'rankOldAndNew': 'OLD', 'movieCd': '20175547', 'movieNm': '스윙키즈', 'openDt': '2018-12-19', 'salesAmt': '278702060', 'salesShare': '0.9', 'salesInten': '-1651955490', 'salesChange': '-85.6', 'salesAcc': '12026480662', 'audiCnt': '34868', 'audiInten': '-197987', 'audiChange': '-85.0', 'audiAcc': '1462874', 'scrnCnt': '510', 'showCnt': '2768'}]\n"
     ]
    }
   ],
   "source": [
    "import requests\n",
    "\n",
    "# raw_data = requests.get(URL)\n",
    "# data = raw_data.json()\n",
    "\n",
    "data = requests.get(URL).json()\n",
    "\n",
    "data = data ['boxOfficeResult']['weeklyBoxOfficeList']\n",
    "\n",
    "print(data)"
   ]
  },
  {
   "cell_type": "code",
   "execution_count": 9,
   "metadata": {},
   "outputs": [
    {
     "ename": "TypeError",
     "evalue": "list indices must be integers or slices, not str",
     "output_type": "error",
     "traceback": [
      "\u001b[1;31m---------------------------------------------------------------------------\u001b[0m",
      "\u001b[1;31mTypeError\u001b[0m                                 Traceback (most recent call last)",
      "\u001b[1;32m<ipython-input-9-12ab8ede6188>\u001b[0m in \u001b[0;36m<module>\u001b[1;34m\u001b[0m\n\u001b[1;32m----> 1\u001b[1;33m \u001b[0mdata\u001b[0m \u001b[1;33m[\u001b[0m\u001b[1;34m'boxOfficeResult'\u001b[0m\u001b[1;33m]\u001b[0m\u001b[1;33m\u001b[0m\u001b[1;33m\u001b[0m\u001b[0m\n\u001b[0m",
      "\u001b[1;31mTypeError\u001b[0m: list indices must be integers or slices, not str"
     ]
    }
   ],
   "source": [
    "data ['boxOfficeResult']"
   ]
  },
  {
   "cell_type": "code",
   "execution_count": 14,
   "metadata": {},
   "outputs": [
    {
     "name": "stdout",
     "output_type": "stream",
     "text": [
      "{'1': '말모이'}\n"
     ]
    }
   ],
   "source": [
    "results = {\n",
    "    data[0]['rank']: data[0]['movieNm']\n",
    "}\n",
    "\n",
    "print(results)"
   ]
  },
  {
   "cell_type": "code",
   "execution_count": 15,
   "metadata": {
    "scrolled": true
   },
   "outputs": [
    {
     "data": {
      "text/plain": [
       "'말모이'"
      ]
     },
     "execution_count": 15,
     "metadata": {},
     "output_type": "execute_result"
    }
   ],
   "source": [
    "data[0]['movieNm']"
   ]
  },
  {
   "cell_type": "code",
   "execution_count": 33,
   "metadata": {},
   "outputs": [],
   "source": [
    "results = []\n",
    "for i in range(10):\n",
    "    if 'movieNm' == 'movieNm':\n",
    "        result = []\n",
    "        results.append(data[i]['movieNm'])\n",
    "        results.append(data[i]['movieCd'])\n",
    "        results.append(data[i]['audiAcc'])\n",
    "# for i in range(10):\n",
    "#     results.append(data[i]['movieNm'])\n",
    "# for i in range(10):\n",
    "#     results.append(data[i]['movieCd'])\n",
    "# for i in range(10):\n",
    "#     results.append(data[i]['audiAcc'])"
   ]
  },
  {
   "cell_type": "code",
   "execution_count": 34,
   "metadata": {},
   "outputs": [
    {
     "data": {
      "text/plain": [
       "['말모이',\n",
       " '20184105',\n",
       " '1185368',\n",
       " '내안의 그놈',\n",
       " '20176251',\n",
       " '765383',\n",
       " '주먹왕 랄프 2: 인터넷 속으로',\n",
       " '20189463',\n",
       " '1342315',\n",
       " '아쿠아맨',\n",
       " '20180290',\n",
       " '4920735',\n",
       " '극장판 공룡메카드: 타이니소어의 섬',\n",
       " '20183915',\n",
       " '289873',\n",
       " '보헤미안 랩소디',\n",
       " '20185485',\n",
       " '9785643',\n",
       " '그린 북',\n",
       " '20184574',\n",
       " '99569',\n",
       " '범블비',\n",
       " '20186281',\n",
       " '1553491',\n",
       " 'PMC: 더 벙커',\n",
       " '20170658',\n",
       " '1665204',\n",
       " '스윙키즈',\n",
       " '20175547',\n",
       " '1462874']"
      ]
     },
     "execution_count": 34,
     "metadata": {},
     "output_type": "execute_result"
    }
   ],
   "source": [
    "results"
   ]
  },
  {
   "cell_type": "code",
   "execution_count": null,
   "metadata": {},
   "outputs": [],
   "source": []
  }
 ],
 "metadata": {
  "kernelspec": {
   "display_name": "Python 3",
   "language": "python",
   "name": "python3"
  },
  "language_info": {
   "codemirror_mode": {
    "name": "ipython",
    "version": 3
   },
   "file_extension": ".py",
   "mimetype": "text/x-python",
   "name": "python",
   "nbconvert_exporter": "python",
   "pygments_lexer": "ipython3",
   "version": "3.6.7"
  }
 },
 "nbformat": 4,
 "nbformat_minor": 2
}
