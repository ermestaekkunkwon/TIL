{
 "cells": [
  {
   "cell_type": "code",
   "execution_count": 10,
   "metadata": {},
   "outputs": [
    {
     "name": "stdout",
     "output_type": "stream",
     "text": [
      "<Response [200]>\n"
     ]
    }
   ],
   "source": [
    "\"\"\"\n",
    "https://www.dhlottery.co.kr/common.do\n",
    "?\n",
    "method=getLottoNumber\n",
    "&\n",
    "drwNo=837\n",
    "\"\"\"\n",
    "\n",
    "import requests\n",
    "\n",
    "\n",
    "URL = 'https://www.dhlottery.co.kr/common.do?method=getLottoNumber&drwNo=837'\n",
    "\n",
    "requests.get(URL)\n",
    "\n",
    "got = requests.get(URL)\n",
    "data = got.json()# json() -> 딕셔너리로 바뀌어라\n",
    "\n",
    "print(got)"
   ]
  },
  {
   "cell_type": "code",
   "execution_count": 14,
   "metadata": {
    "scrolled": true
   },
   "outputs": [
    {
     "name": "stdout",
     "output_type": "stream",
     "text": [
      "[2, 25, 28, 30, 33, 45]\n"
     ]
    }
   ],
   "source": [
    "numbers = []\n",
    "for k, v in data.items():\n",
    "    if 'drwtNo' in k:\n",
    "        numbers.append(v)\n",
    "\n",
    "numbers.sort()\n",
    "print(numbers)"
   ]
  },
  {
   "cell_type": "code",
   "execution_count": 12,
   "metadata": {},
   "outputs": [
    {
     "data": {
      "text/plain": [
       "'{\"totSellamnt\":76614176000,\"returnValue\":\"success\",\"drwNoDate\":\"2018-12-15\",\"firstWinamnt\":3144449125,\"drwtNo6\":45,\"drwtNo4\":30,\"firstPrzwnerCo\":6,\"drwtNo5\":33,\"bnusNo\":6,\"firstAccumamnt\":18866694750,\"drwNo\":837,\"drwtNo2\":25,\"drwtNo3\":28,\"drwtNo1\":2}'"
      ]
     },
     "execution_count": 12,
     "metadata": {},
     "output_type": "execute_result"
    }
   ],
   "source": [
    "got.text"
   ]
  },
  {
   "cell_type": "code",
   "execution_count": null,
   "metadata": {},
   "outputs": [],
   "source": []
  }
 ],
 "metadata": {
  "kernelspec": {
   "display_name": "Python 3",
   "language": "python",
   "name": "python3"
  },
  "language_info": {
   "codemirror_mode": {
    "name": "ipython",
    "version": 3
   },
   "file_extension": ".py",
   "mimetype": "text/x-python",
   "name": "python",
   "nbconvert_exporter": "python",
   "pygments_lexer": "ipython3",
   "version": "3.6.7"
  }
 },
 "nbformat": 4,
 "nbformat_minor": 2
}
