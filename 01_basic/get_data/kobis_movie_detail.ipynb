{
 "cells": [
  {
   "cell_type": "code",
   "execution_count": 2,
   "metadata": {},
   "outputs": [],
   "source": [
    "key = ''  # 환경변수로 옮기자!\n",
    "URL = f'http://www.kobis.or.kr/kobisopenapi/webservice/rest/boxoffice/searchWeeklyBoxOfficeList.json?key={key}&targetDt=20190113&weekGb=0'"
   ]
  },
  {
   "cell_type": "code",
   "execution_count": 6,
   "metadata": {},
   "outputs": [
    {
     "ename": "NameError",
     "evalue": "name 'movies' is not defined",
     "output_type": "error",
     "traceback": [
      "\u001b[1;31m---------------------------------------------------------------------------\u001b[0m",
      "\u001b[1;31mNameError\u001b[0m                                 Traceback (most recent call last)",
      "\u001b[1;32m<ipython-input-6-256a56d92d32>\u001b[0m in \u001b[0;36m<module>\u001b[1;34m\u001b[0m\n\u001b[0;32m      6\u001b[0m \u001b[1;33m\u001b[0m\u001b[0m\n\u001b[0;32m      7\u001b[0m \u001b[0mresults\u001b[0m \u001b[1;33m=\u001b[0m \u001b[1;33m[\u001b[0m\u001b[1;33m]\u001b[0m\u001b[1;33m\u001b[0m\u001b[1;33m\u001b[0m\u001b[0m\n\u001b[1;32m----> 8\u001b[1;33m \u001b[1;32mfor\u001b[0m \u001b[0mmovie\u001b[0m \u001b[1;32min\u001b[0m \u001b[0mmovies\u001b[0m\u001b[1;33m:\u001b[0m\u001b[1;33m\u001b[0m\u001b[1;33m\u001b[0m\u001b[0m\n\u001b[0m\u001b[0;32m      9\u001b[0m     \u001b[0mdata_set\u001b[0m \u001b[1;33m=\u001b[0m \u001b[0mrequests\u001b[0m\u001b[1;33m.\u001b[0m\u001b[0mget\u001b[0m\u001b[1;33m(\u001b[0m\u001b[0mURL\u001b[0m\u001b[1;33m)\u001b[0m\u001b[1;33m.\u001b[0m\u001b[0mjson\u001b[0m\u001b[1;33m(\u001b[0m\u001b[1;33m)\u001b[0m\u001b[1;33m[\u001b[0m\u001b[1;34m'boxOfficeResult'\u001b[0m\u001b[1;33m]\u001b[0m\u001b[1;33m[\u001b[0m\u001b[1;34m'weeklyBoxOfficeList'\u001b[0m\u001b[1;33m]\u001b[0m\u001b[1;33m\u001b[0m\u001b[1;33m\u001b[0m\u001b[0m\n\u001b[0;32m     10\u001b[0m     \u001b[0mmovie_info\u001b[0m \u001b[1;33m=\u001b[0m \u001b[1;33m{\u001b[0m\u001b[1;33m}\u001b[0m\u001b[1;33m\u001b[0m\u001b[1;33m\u001b[0m\u001b[0m\n",
      "\u001b[1;31mNameError\u001b[0m: name 'movies' is not defined"
     ]
    }
   ],
   "source": [
    "import requests\n",
    "\n",
    "# raw_data = requests.get(URL)\n",
    "# data = raw_data.json()\n",
    "# targetDt = 20190113, 20190106, 20181230, 20181223, 20181216, 20181209, 20181202, 20181125, 20181118, 20181111\n",
    "\n",
    "results = []\n",
    "for movie in movies:\n",
    "    data_set = requests.get(URL).json()['boxOfficeResult']['weeklyBoxOfficeList']\n",
    "    movie_info = {}\n",
    "    movie_info['title'] = data_set['items'][0]['title']\n",
    "    movie_info['link'] = data_set['items'][0]['movieCd']\n",
    "    movie_info['image'] = data_set['items'][0]['audiAcc']\n",
    "    results.append(movie_info)"
   ]
  },
  {
   "cell_type": "code",
   "execution_count": 12,
   "metadata": {},
   "outputs": [
    {
     "name": "stdout",
     "output_type": "stream",
     "text": [
      "{'말모이': '20184105', '내안의 그놈': '20176251', '주먹왕 랄프 2: 인터넷 속으로': '20189463', '극장판 공룡메카드: 타이니소어의 섬': '20183915', '아쿠아맨': '20180290', '보헤미안 랩소디': '20185485', '그린 북': '20184574', '범블비': '20186281', 'PMC: 더 벙커': '20170658', '명탐정 코난 : 제로의 집행인': '20187427'}\n"
     ]
    }
   ],
   "source": [
    "movie_code_name = {\n",
    "    data[0]['movieNm'] : data[0]['movieCd'],\n",
    "    data[1]['movieNm'] : data[1]['movieCd'],\n",
    "    data[2]['movieNm'] : data[2]['movieCd'],\n",
    "    data[3]['movieNm'] : data[3]['movieCd'],\n",
    "    data[4]['movieNm'] : data[4]['movieCd'],\n",
    "    data[5]['movieNm'] : data[5]['movieCd'],\n",
    "    data[6]['movieNm'] : data[6]['movieCd'],\n",
    "    data[7]['movieNm'] : data[7]['movieCd'],\n",
    "    data[8]['movieNm'] : data[8]['movieCd'],\n",
    "    data[9]['movieNm'] : data[9]['movieCd']\n",
    "}\n",
    "\n",
    "print(movie_code_name)"
   ]
  },
  {
   "cell_type": "code",
   "execution_count": 14,
   "metadata": {},
   "outputs": [
    {
     "name": "stdout",
     "output_type": "stream",
     "text": [
      "{'내안의 그놈': '20176251', '주먹왕 랄프 2: 인터넷 속으로': '20189463', '극장판 공룡메카드: 타이니소어의 섬': '20183915', '아쿠아맨': '20180290', '보헤미안 랩소디': '20185485', '그린 북': '20184574', '범블비': '20186281', 'PMC: 더 벙커': '20170658', '명탐정 코난 : 제로의 집행인': '20187427'}\n"
     ]
    }
   ],
   "source": [
    "movie_audience_date = {\n",
    "    data[1]['movieNm'] : data[1]['movieCd'],\n",
    "    data[2]['movieNm'] : data[2]['movieCd'],\n",
    "    data[3]['movieNm'] : data[3]['movieCd'],\n",
    "    data[4]['movieNm'] : data[4]['movieCd'],\n",
    "    data[5]['movieNm'] : data[5]['movieCd'],\n",
    "    data[6]['movieNm'] : data[6]['movieCd'],\n",
    "    data[7]['movieNm'] : data[7]['movieCd'],\n",
    "    data[8]['movieNm'] : data[8]['movieCd'],\n",
    "    data[9]['movieNm'] : data[9]['movieCd']\n",
    "}\n",
    "\n",
    "print(movie_audience_date)"
   ]
  },
  {
   "cell_type": "code",
   "execution_count": 9,
   "metadata": {},
   "outputs": [],
   "source": [
    "import requests\n",
    "\n",
    "\n",
    "for i in range(10):\n",
    "    results = []\n",
    "    data_set = requests.get(URL).json()['boxOfficeResult']['weeklyBoxOfficeList'][i]\n",
    "    results.append(data_set)\n",
    "\n",
    "#     if key in data_set:\n",
    "#         if 'movieNm' in data_set:\n",
    "#             results.append(data_set['movieNm'])\n",
    "#     movie_info = {}\n",
    "#     movie_info['movieNm'] = data_set['items'][0]['movieNm']\n",
    "#     movie_info['link'] = data_set['items'][0]['link']\n",
    "#     movie_info['image'] = data_set['items'][0]['image']\n",
    "#     results.append(movie_info)"
   ]
  },
  {
   "cell_type": "code",
   "execution_count": 10,
   "metadata": {},
   "outputs": [
    {
     "data": {
      "text/plain": [
       "[{'rnum': '10',\n",
       "  'rank': '10',\n",
       "  'rankInten': '-4',\n",
       "  'rankOldAndNew': 'OLD',\n",
       "  'movieCd': '20175547',\n",
       "  'movieNm': '스윙키즈',\n",
       "  'openDt': '2018-12-19',\n",
       "  'salesAmt': '278702060',\n",
       "  'salesShare': '0.9',\n",
       "  'salesInten': '-1651955490',\n",
       "  'salesChange': '-85.6',\n",
       "  'salesAcc': '12026480662',\n",
       "  'audiCnt': '34868',\n",
       "  'audiInten': '-197987',\n",
       "  'audiChange': '-85.0',\n",
       "  'audiAcc': '1462874',\n",
       "  'scrnCnt': '510',\n",
       "  'showCnt': '2768'}]"
      ]
     },
     "execution_count": 10,
     "metadata": {},
     "output_type": "execute_result"
    }
   ],
   "source": [
    "results"
   ]
  },
  {
   "cell_type": "code",
   "execution_count": 20,
   "metadata": {},
   "outputs": [
    {
     "ename": "NameError",
     "evalue": "name 'movieNm' is not defined",
     "output_type": "error",
     "traceback": [
      "\u001b[1;31m---------------------------------------------------------------------------\u001b[0m",
      "\u001b[1;31mNameError\u001b[0m                                 Traceback (most recent call last)",
      "\u001b[1;32m<ipython-input-20-b644a5d577da>\u001b[0m in \u001b[0;36m<module>\u001b[1;34m\u001b[0m\n\u001b[0;32m      8\u001b[0m     \u001b[1;32mfor\u001b[0m \u001b[0mkey\u001b[0m \u001b[1;32min\u001b[0m \u001b[0mdata_set\u001b[0m\u001b[1;33m:\u001b[0m\u001b[1;33m\u001b[0m\u001b[1;33m\u001b[0m\u001b[0m\n\u001b[0;32m      9\u001b[0m         \u001b[1;32mif\u001b[0m \u001b[1;34m'movieNm'\u001b[0m \u001b[1;32min\u001b[0m \u001b[0mkey\u001b[0m\u001b[1;33m:\u001b[0m\u001b[1;33m\u001b[0m\u001b[1;33m\u001b[0m\u001b[0m\n\u001b[1;32m---> 10\u001b[1;33m             \u001b[0mshit\u001b[0m\u001b[1;33m.\u001b[0m\u001b[0mappend\u001b[0m\u001b[1;33m(\u001b[0m\u001b[0mdata_set\u001b[0m\u001b[1;33m[\u001b[0m\u001b[0mmovieNm\u001b[0m\u001b[1;33m]\u001b[0m\u001b[1;33m)\u001b[0m\u001b[1;33m\u001b[0m\u001b[1;33m\u001b[0m\u001b[0m\n\u001b[0m",
      "\u001b[1;31mNameError\u001b[0m: name 'movieNm' is not defined"
     ]
    }
   ],
   "source": [
    "import requests\n",
    "\n",
    "key = ''  # 환경변수로 옮기자!\n",
    "URL = f'http://www.kobis.or.kr/kobisopenapi/webservice/rest/boxoffice/searchWeeklyBoxOfficeList.json?key={key}&targetDt=20190113&weekGb=0'\n",
    "data_set = requests.get(URL).json()['boxOfficeResult']['weeklyBoxOfficeList']\n",
    "for i in range(10):\n",
    "    shit = []\n",
    "    for key in data_set:\n",
    "        if 'movieNm' in key:\n",
    "            shit.append(data_set[movieNm])\n"
   ]
  },
  {
   "cell_type": "code",
   "execution_count": 14,
   "metadata": {},
   "outputs": [
    {
     "data": {
      "text/plain": [
       "{'numbers': [42, 40, 41, 24, 29, 16], 'bonus': 3}"
      ]
     },
     "execution_count": 14,
     "metadata": {},
     "output_type": "execute_result"
    }
   ],
   "source": [
    "get_lotto(5)"
   ]
  },
  {
   "cell_type": "code",
   "execution_count": null,
   "metadata": {},
   "outputs": [],
   "source": []
  }
 ],
 "metadata": {
  "kernelspec": {
   "display_name": "Python 3",
   "language": "python",
   "name": "python3"
  },
  "language_info": {
   "codemirror_mode": {
    "name": "ipython",
    "version": 3
   },
   "file_extension": ".py",
   "mimetype": "text/x-python",
   "name": "python",
   "nbconvert_exporter": "python",
   "pygments_lexer": "ipython3",
   "version": "3.6.7"
  }
 },
 "nbformat": 4,
 "nbformat_minor": 2
}
