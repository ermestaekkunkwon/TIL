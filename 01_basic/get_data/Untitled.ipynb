{
 "cells": [
  {
   "cell_type": "code",
   "execution_count": 1,
   "metadata": {},
   "outputs": [
    {
     "name": "stdout",
     "output_type": "stream",
     "text": [
      "1\n",
      "2\n",
      "3\n",
      "4\n",
      "5\n",
      "6\n",
      "7\n",
      "8\n",
      "9\n",
      "10\n"
     ]
    }
   ],
   "source": [
    "for number in range(10):\n",
    "    n = number + 1\n",
    "    print(n)"
   ]
  },
  {
   "cell_type": "code",
   "execution_count": 37,
   "metadata": {},
   "outputs": [],
   "source": [
    "import requests\n",
    "\n",
    "key = ''  # 환경변수로 옮기자!\n",
    "\n",
    "date = ['20190113', '20190106', '20181230', '20181223', '20181216', '20181209', '20181202', '20181125', '20181118', '20181111']\n",
    "rank = []\n",
    "for j in date:\n",
    "    URL = f'http://www.kobis.or.kr/kobisopenapi/webservice/rest/boxoffice/searchWeeklyBoxOfficeList.json?key={key}&targetDt={j}&weekGb=0'\n",
    "    data_set = requests.get(URL).json()['boxOfficeResult']['weeklyBoxOfficeList']\n",
    "    for i in range(10):\n",
    "        ranks = [data_set[i]['movieNm'], data_set[i]['movieCd'], data_set[i]['audiAcc'], date[i]]\n",
    "        for k in range(len(rank)):\n",
    "            if ranks[0] == rank[k][0]:\n",
    "                break\n",
    "        else:\n",
    "            rank.append(ranks)\n",
    "        \n",
    "    \n",
    "\n",
    "\n",
    "\n",
    "\n",
    "#     rank.append(URL)\n",
    "\n",
    "# rank\n",
    "\n",
    "\n",
    "            \n",
    "#     final_dict = {\n",
    "#     '영화대표코드' : results_code,\n",
    "#     '이름' : results_name,\n",
    "#     '누적 관객수' : results_cust\n",
    "#     }\n",
    "\n",
    "#     results_code.append(data_set[i]['movieCd'])\n",
    "#     results_name.append(data_set[i]['movieNm'])\n",
    "#     results_cust.append(data_set[i]['audiAcc'])    \n",
    "    \n",
    "# for key in data_set:\n",
    "#     if 'movieNm' in key:\n",
    "#         results_name.append(data_set[key])\n",
    "\n",
    "# for key in data_set:\n",
    "#     if 'audiAcc' in key:\n",
    "#         results_cust.append(data_set[key])\n",
    "        \n"
   ]
  },
  {
   "cell_type": "code",
   "execution_count": 38,
   "metadata": {},
   "outputs": [
    {
     "data": {
      "text/plain": [
       "[['말모이', '20184105', '1185368', '20190113'],\n",
       " ['내안의 그놈', '20176251', '765383', '20190106'],\n",
       " ['주먹왕 랄프 2: 인터넷 속으로', '20189463', '1342315', '20181230'],\n",
       " ['아쿠아맨', '20180290', '4920735', '20181223'],\n",
       " ['극장판 공룡메카드: 타이니소어의 섬', '20183915', '289873', '20181216'],\n",
       " ['보헤미안 랩소디', '20185485', '9785643', '20181209'],\n",
       " ['그린 북', '20184574', '99569', '20181202'],\n",
       " ['범블비', '20186281', '1553491', '20181125'],\n",
       " ['PMC: 더 벙커', '20170658', '1665204', '20181118'],\n",
       " ['스윙키즈', '20175547', '1462874', '20181111'],\n",
       " ['점박이 한반도의 공룡2 : 새로운 낙원', '20183785', '521053', '20181202'],\n",
       " ['언니', '20184187', '172340', '20181125'],\n",
       " ['그린치', '20182421', '543815', '20181111'],\n",
       " ['마약왕', '20168773', '1787838', '20181216'],\n",
       " ['극장판 짱구는 못말려: 아뵤! 쿵후 보이즈 ~라면 대란~', '20183479', '259753', '20181118'],\n",
       " ['스파이더맨: 뉴 유니버스', '20183238', '628327', '20181111'],\n",
       " ['국가부도의 날', '20177552', '3723915', '20181209'],\n",
       " ['도어락', '20179230', '1546002', '20181125'],\n",
       " ['극장판 포켓몬스터 모두의 이야기', '20183375', '86997', '20181111'],\n",
       " ['호두까기 인형과 4개의 왕국', '20189843', '408425', '20181216'],\n",
       " ['부탁 하나만 들어줘', '20182082', '87501', '20181209'],\n",
       " ['모털 엔진', '20178825', '262070', '20181125'],\n",
       " ['런닝맨 : 풀룰루의 역습', '20183745', '180709', '20181118'],\n",
       " ['완벽한 타인', '20177538', '5270621', '20181111'],\n",
       " ['성난황소', '20184481', '1567264', '20181202'],\n",
       " ['후드', '20181905', '276658', '20181118'],\n",
       " ['신비한 동물들과 그린델왈드의 범죄', '20176814', '2403686', '20181111'],\n",
       " ['베일리 어게인', '20183073', '78439', '20181202'],\n",
       " ['바울', '20181171', '229837', '20181125'],\n",
       " ['거미줄에 걸린 소녀', '20183007', '25172', '20181118'],\n",
       " ['투 프렌즈', '20182966', '20419', '20181111'],\n",
       " ['번 더 스테이지: 더 무비', '20183050', '298402', '20181216'],\n",
       " ['출국', '20182935', '71407', '20181125'],\n",
       " ['툴리', '20182669', '24325', '20181118'],\n",
       " ['너의 췌장을 먹고 싶어', '20186822', '48910', '20181111'],\n",
       " ['동네사람들', '20170513', '445625', '20181216'],\n",
       " ['해피 투게더', '20189869', '15745', '20181111'],\n",
       " ['창궐', '20174981', '1588443', '20181216'],\n",
       " ['해리포터와 마법사의 돌', '20010291', '259733', '20181209'],\n",
       " ['여곡성', '20179006', '55997', '20181202'],\n",
       " ['벽 속에 숨은 마법시계', '20181404', '211233', '20181125'],\n",
       " ['스타 이즈 본', '20180523', '458917', '20181118'],\n",
       " ['구스범스: 몬스터의 역습', '20182693', '21400', '20181111']]"
      ]
     },
     "execution_count": 38,
     "metadata": {},
     "output_type": "execute_result"
    }
   ],
   "source": [
    "rank"
   ]
  },
  {
   "cell_type": "code",
   "execution_count": 3,
   "metadata": {},
   "outputs": [],
   "source": [
    "import requests\n",
    "\n",
    "key = ''  # 환경변수로 옮기자!\n",
    "\n",
    "date = [20190113, 20190106, 20181230, 20181223, 20181216, 20181209, 20181202, 20181125, 20181118, 20181111]\n",
    "rank = []\n",
    "\n",
    "for i in range(10):\n",
    "    URL = f'http://www.kobis.or.kr/kobisopenapi/webservice/rest/boxoffice/searchWeeklyBoxOfficeList.json?key={key}&targetDt={date[0]}&weekGb=0'\n",
    "    data_set = requests.get(URL).json()['boxOfficeResult']['weeklyBoxOfficeList'][i]\n",
    "    ranks = {}\n",
    "    if 'movieNm' in key:\n",
    "        ranks['제목'] = data_set[0]['movieNm']\n",
    "        ranks['코드'] = data_set[0]['movieCd']\n",
    "        ranks['누적관객수'] = data_set[0]['audiAcc']\n",
    "        ranks['해당일'] = date[0]\n",
    "        rank.append(ranks)\n",
    "        "
   ]
  },
  {
   "cell_type": "code",
   "execution_count": 4,
   "metadata": {},
   "outputs": [
    {
     "data": {
      "text/plain": [
       "[]"
      ]
     },
     "execution_count": 4,
     "metadata": {},
     "output_type": "execute_result"
    }
   ],
   "source": [
    "rank"
   ]
  },
  {
   "cell_type": "code",
   "execution_count": 6,
   "metadata": {},
   "outputs": [],
   "source": [
    "import requests\n",
    "\n",
    "\n",
    "\n",
    "def shit():\n",
    "    key = ''  # 환경변수로 옮기자!\n",
    "\n",
    "    date = [20190113, 20190106, 20181230, 20181223, 20181216, 20181209, 20181202, 20181125, 20181118, 20181111]\n",
    "    rank = []\n",
    "    for j in date:\n",
    "        URL = f'http://www.kobis.or.kr/kobisopenapi/webservice/rest/boxoffice/searchWeeklyBoxOfficeList.json?key={key}&targetDt={j}&weekGb=0'\n",
    "        data_set = requests.get(URL).json()['boxOfficeResult']['weeklyBoxOfficeList']\n",
    "        rank = []\n",
    "        for key in data_set:\n",
    "            if 'movieNm' in key:\n",
    "                rank.append(data_set[key])\n",
    "            if 'movieCd' in key:\n",
    "                rank.append(data_set[key])\n",
    "            if 'audiAcc' in key:\n",
    "                rank.append(data_set[key])\n",
    "    final_dict = {\n",
    "        '이름' : rank,\n",
    "        '코드' : rank,\n",
    "        '누적' : rank\n",
    "    }\n",
    "    return final_dict"
   ]
  },
  {
   "cell_type": "code",
   "execution_count": 7,
   "metadata": {},
   "outputs": [
    {
     "ename": "TypeError",
     "evalue": "list indices must be integers or slices, not dict",
     "output_type": "error",
     "traceback": [
      "\u001b[1;31m---------------------------------------------------------------------------\u001b[0m",
      "\u001b[1;31mTypeError\u001b[0m                                 Traceback (most recent call last)",
      "\u001b[1;32m<ipython-input-7-d7feaa898ba9>\u001b[0m in \u001b[0;36m<module>\u001b[1;34m\u001b[0m\n\u001b[1;32m----> 1\u001b[1;33m \u001b[0mprint\u001b[0m\u001b[1;33m(\u001b[0m\u001b[0mshit\u001b[0m\u001b[1;33m(\u001b[0m\u001b[1;33m)\u001b[0m\u001b[1;33m)\u001b[0m\u001b[1;33m\u001b[0m\u001b[1;33m\u001b[0m\u001b[0m\n\u001b[0m",
      "\u001b[1;32m<ipython-input-6-b38724fa3e57>\u001b[0m in \u001b[0;36mshit\u001b[1;34m()\u001b[0m\n\u001b[0;32m     14\u001b[0m         \u001b[1;32mfor\u001b[0m \u001b[0mkey\u001b[0m \u001b[1;32min\u001b[0m \u001b[0mdata_set\u001b[0m\u001b[1;33m:\u001b[0m\u001b[1;33m\u001b[0m\u001b[1;33m\u001b[0m\u001b[0m\n\u001b[0;32m     15\u001b[0m             \u001b[1;32mif\u001b[0m \u001b[1;34m'movieNm'\u001b[0m \u001b[1;32min\u001b[0m \u001b[0mkey\u001b[0m\u001b[1;33m:\u001b[0m\u001b[1;33m\u001b[0m\u001b[1;33m\u001b[0m\u001b[0m\n\u001b[1;32m---> 16\u001b[1;33m                 \u001b[0mrank\u001b[0m\u001b[1;33m.\u001b[0m\u001b[0mappend\u001b[0m\u001b[1;33m(\u001b[0m\u001b[0mdata_set\u001b[0m\u001b[1;33m[\u001b[0m\u001b[0mkey\u001b[0m\u001b[1;33m]\u001b[0m\u001b[1;33m)\u001b[0m\u001b[1;33m\u001b[0m\u001b[1;33m\u001b[0m\u001b[0m\n\u001b[0m\u001b[0;32m     17\u001b[0m             \u001b[1;32mif\u001b[0m \u001b[1;34m'movieCd'\u001b[0m \u001b[1;32min\u001b[0m \u001b[0mkey\u001b[0m\u001b[1;33m:\u001b[0m\u001b[1;33m\u001b[0m\u001b[1;33m\u001b[0m\u001b[0m\n\u001b[0;32m     18\u001b[0m                 \u001b[0mrank\u001b[0m\u001b[1;33m.\u001b[0m\u001b[0mappend\u001b[0m\u001b[1;33m(\u001b[0m\u001b[0mdata_set\u001b[0m\u001b[1;33m[\u001b[0m\u001b[0mkey\u001b[0m\u001b[1;33m]\u001b[0m\u001b[1;33m)\u001b[0m\u001b[1;33m\u001b[0m\u001b[1;33m\u001b[0m\u001b[0m\n",
      "\u001b[1;31mTypeError\u001b[0m: list indices must be integers or slices, not dict"
     ]
    }
   ],
   "source": [
    "print(shit())"
   ]
  },
  {
   "cell_type": "code",
   "execution_count": null,
   "metadata": {},
   "outputs": [],
   "source": [
    "import requests\n",
    "\n",
    "key = ''  # 환경변수로 옮기자!\n",
    "date = ['20190113', '20190106', '20181230', '20181223', '20181216', '20181209', '20181202', '20181125', '20181118', '20181111']\n",
    "for j in date:\n",
    "    URL = f'http://www.kobis.or.kr/kobisopenapi/webservice/rest/boxoffice/searchWeeklyBoxOfficeList.json?key={key}&targetDt={j}&weekGb=0'\n",
    "    for i in range(10):\n",
    "        data_set = requests.get(URL).json()['boxOfficeResult']['weeklyBoxOfficeList'][i]\n",
    "        print(data_set)"
   ]
  },
  {
   "cell_type": "code",
   "execution_count": 4,
   "metadata": {},
   "outputs": [],
   "source": [
    "import requests\n",
    "\n",
    "key = ''  # 환경변수로 옮기자!\n",
    "# date = ['20190113', '20190106', '20181230', '20181223', '20181216', '20181209', '20181202', '20181125', '20181118', '20181111']\n",
    "URL = f'http://www.kobis.or.kr/kobisopenapi/webservice/rest/boxoffice/searchWeeklyBoxOfficeList.json?key={key}&targetDt=20190113&weekGb=0'\n",
    "\n",
    "data_set = requests.get(URL).json()['boxOfficeResult']['weeklyBoxOfficeList']\n",
    "for key in data_set:\n",
    "    rank = []\n",
    "    if 'movieNm' in data_set:\n",
    "        rank.append(data_set['movieNm'])\n",
    "    if 'movieCd' in data_set:\n",
    "        rank.append(data_set['movieCd'])\n",
    "    "
   ]
  },
  {
   "cell_type": "code",
   "execution_count": 5,
   "metadata": {},
   "outputs": [
    {
     "data": {
      "text/plain": [
       "[]"
      ]
     },
     "execution_count": 5,
     "metadata": {},
     "output_type": "execute_result"
    }
   ],
   "source": [
    "rank"
   ]
  },
  {
   "cell_type": "code",
   "execution_count": null,
   "metadata": {},
   "outputs": [],
   "source": []
  }
 ],
 "metadata": {
  "kernelspec": {
   "display_name": "Python 3",
   "language": "python",
   "name": "python3"
  },
  "language_info": {
   "codemirror_mode": {
    "name": "ipython",
    "version": 3
   },
   "file_extension": ".py",
   "mimetype": "text/x-python",
   "name": "python",
   "nbconvert_exporter": "python",
   "pygments_lexer": "ipython3",
   "version": "3.6.7"
  }
 },
 "nbformat": 4,
 "nbformat_minor": 2
}
