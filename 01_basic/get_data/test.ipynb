{
 "cells": [
  {
   "cell_type": "code",
   "execution_count": 10,
   "metadata": {},
   "outputs": [],
   "source": [
    "key = ''  # 환경변수로 옮기자!\n",
    "URL = f'http://www.kobis.or.kr/kobisopenapi/webservice/rest/boxoffice/searchWeeklyBoxOfficeList.json?key={key}&targetDt=20190113'\n",
    "\n",
    "import requests\n",
    "\n",
    "# raw_data = requests.get(URL)\n",
    "# data = raw_data.json()\n",
    "\n",
    "data = requests.get(URL).json()\n",
    "\n",
    "data = data ['boxOfficeResult']['weeklyBoxOfficeList']\n",
    "\n",
    "\n",
    "result = []\n",
    "data[0]['movieNm']\n",
    "result.append(data[0]['movieNm'])\n",
    "data[0]['movieCd']\n",
    "result.append(data[0]['movieCd'])\n",
    "data[0]['audiAcc']\n",
    "result.append(data[0]['audiAcc'])\n"
   ]
  },
  {
   "cell_type": "code",
   "execution_count": 11,
   "metadata": {},
   "outputs": [
    {
     "data": {
      "text/plain": [
       "['말모이', '20184105', '1185368']"
      ]
     },
     "execution_count": 11,
     "metadata": {},
     "output_type": "execute_result"
    }
   ],
   "source": [
    "result"
   ]
  },
  {
   "cell_type": "code",
   "execution_count": null,
   "metadata": {},
   "outputs": [],
   "source": []
  }
 ],
 "metadata": {
  "kernelspec": {
   "display_name": "Python 3",
   "language": "python",
   "name": "python3"
  },
  "language_info": {
   "codemirror_mode": {
    "name": "ipython",
    "version": 3
   },
   "file_extension": ".py",
   "mimetype": "text/x-python",
   "name": "python",
   "nbconvert_exporter": "python",
   "pygments_lexer": "ipython3",
   "version": "3.6.7"
  }
 },
 "nbformat": 4,
 "nbformat_minor": 2
}
